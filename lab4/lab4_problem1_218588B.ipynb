{
 "cells": [
  {
   "cell_type": "code",
   "execution_count": 1,
   "metadata": {},
   "outputs": [],
   "source": [
    "import pandas as pd\n",
    "import numpy as np\n",
    "import matplotlib.pyplot as plt"
   ]
  },
  {
   "cell_type": "code",
   "execution_count": 8,
   "metadata": {},
   "outputs": [],
   "source": [
    "#import dataset \n",
    "df = pd.read_csv('.././data/csv/16-Adaboost.csv')"
   ]
  },
  {
   "cell_type": "markdown",
   "metadata": {},
   "source": [
    "## 31.1 Classification Problem Dataset"
   ]
  },
  {
   "cell_type": "code",
   "execution_count": 5,
   "metadata": {},
   "outputs": [
    {
     "data": {
      "text/plain": [
       "['3.64754035',\n",
       " '2.612663842',\n",
       " '2.363359679',\n",
       " '4.932600453',\n",
       " '3.776154753',\n",
       " '8.673960793',\n",
       " '5.861599451',\n",
       " '8.984677361',\n",
       " '7.467380954',\n",
       " '4.436284412']"
      ]
     },
     "execution_count": 5,
     "metadata": {},
     "output_type": "execute_result"
    }
   ],
   "source": [
    "x1 = list(df['AdaBoost'][3:13])\n",
    "x1 = [float(s) for s in x1]\n",
    "x2 = list(df['Unnamed: 1'][3:13])\n",
    "x2 = [float(s) for s in x2]"
   ]
  },
  {
   "cell_type": "code",
   "execution_count": 68,
   "metadata": {},
   "outputs": [
    {
     "data": {
      "text/plain": [
       "Text(0,0.5,'x2')"
      ]
     },
     "execution_count": 68,
     "metadata": {},
     "output_type": "execute_result"
    },
    {
     "data": {
      "image/png": "[encoded data removed]",
      "text/plain": [
       "<Figure size 432x288 with 1 Axes>"
      ]
     },
     "metadata": {},
     "output_type": "display_data"
    }
   ],
   "source": [
    "fig = plt.figure()\n",
    "\n",
    "plt.scatter(x1[:len(x1)//2],x2[:len(x2)//2])\n",
    "plt.scatter(x1[len(x1)//2:],x2[len(x2)//2:])\n",
    "plt.xlabel(\"x1\")\n",
    "plt.ylabel(\"x2\")"
   ]
  },
  {
   "cell_type": "markdown",
   "metadata": {},
   "source": [
    "## 31.3 Decision Stump: Model #1"
   ]
  },
  {
   "cell_type": "code",
   "execution_count": 69,
   "metadata": {},
   "outputs": [],
   "source": [
    "weight = list(df['Unnamed: 3'][18:28])\n",
    "weight = [float(s) for s in weight]\n",
    "\n",
    "y = list(df['Unnamed: 2'][18:28])\n",
    "y = [float(s) for s in y]\n",
    "\n",
    "x1_split = float(df['Unnamed: 4'][18:19])"
   ]
  },
  {
   "cell_type": "code",
   "execution_count": 70,
   "metadata": {},
   "outputs": [],
   "source": [
    "def judge_gorup(x_split, x_data):\n",
    "    _group = []\n",
    "    for i in x_data:\n",
    "        if i <= x_split:\n",
    "            _group.append(\"LEFT\")\n",
    "        else:\n",
    "            _group.append(\"RIGHT\")\n",
    "    return _group"
   ]
  },
  {
   "cell_type": "code",
   "execution_count": 71,
   "metadata": {},
   "outputs": [
    {
     "name": "stdout",
     "output_type": "stream",
     "text": [
      "=====Group=====\n",
      "LEFT\n",
      "LEFT\n",
      "LEFT\n",
      "LEFT\n",
      "LEFT\n",
      "RIGHT\n",
      "RIGHT\n",
      "RIGHT\n",
      "RIGHT\n",
      "LEFT\n",
      "=====Prediction=====\n",
      "0\n",
      "0\n",
      "0\n",
      "0\n",
      "0\n",
      "1\n",
      "1\n",
      "1\n",
      "1\n",
      "0\n"
     ]
    }
   ],
   "source": [
    "group = judge_gorup(x1_split, x1)\n",
    "print('=====Group=====')\n",
    "for i in group:\n",
    "    print(i)\n",
    "    \n",
    "prediction = []\n",
    "print('=====Prediction=====')\n",
    "for n in group:\n",
    "    if n == 'LEFT':\n",
    "        print(0)\n",
    "        prediction.append(0)\n",
    "    else:\n",
    "        print(1)\n",
    "        prediction.append(1)"
   ]
  },
  {
   "cell_type": "code",
   "execution_count": 72,
   "metadata": {},
   "outputs": [
    {
     "name": "stdout",
     "output_type": "stream",
     "text": [
      "=====Error=====\n",
      "0\n",
      "0\n",
      "0\n",
      "0\n",
      "0\n",
      "0\n",
      "0\n",
      "0\n",
      "0\n",
      "1\n",
      "=====Weight Error=====\n",
      "0.0\n",
      "0.0\n",
      "0.0\n",
      "0.0\n",
      "0.0\n",
      "0.0\n",
      "0.0\n",
      "0.0\n",
      "0.0\n",
      "0.1\n"
     ]
    }
   ],
   "source": [
    "error = []\n",
    "\n",
    "print('=====Error=====')\n",
    "for i in range(len(prediction)):\n",
    "    print(abs(int(prediction[i]) - int(y[i])))\n",
    "    error.append(abs(int(prediction[i]) - int(y[i])))\n",
    "\n",
    "weight_error = []\n",
    "\n",
    "print('=====Weight Error=====')\n",
    "for i in range(len(error)):\n",
    "    print(int(error[i])*float(weight[i]))\n",
    "    weight_error.append(int(error[i])*float(weight[i]))"
   ]
  },
  {
   "cell_type": "code",
   "execution_count": 73,
   "metadata": {},
   "outputs": [
    {
     "name": "stdout",
     "output_type": "stream",
     "text": [
      "=====Sum Weights=====\n",
      "1\n",
      "=====Sum Errors=====\n",
      "0.1\n",
      "=====Misclassification=====\n",
      "0.1\n"
     ]
    }
   ],
   "source": [
    "import math\n",
    "print('=====Sum Weights=====')\n",
    "sum_w = math.ceil(sum(weight))\n",
    "print(sum_w)\n",
    "\n",
    "print('=====Sum Errors=====')\n",
    "sum_e = (sum(weight_error))\n",
    "print(sum_e)\n",
    "\n",
    "print('=====Misclassification=====')\n",
    "misclassification = sum_e/sum_w\n",
    "print(misclassification)"
   ]
  },
  {
   "cell_type": "code",
   "execution_count": 74,
   "metadata": {},
   "outputs": [
    {
     "name": "stdout",
     "output_type": "stream",
     "text": [
      "=====Stage=====\n",
      "2.1972245773362196\n",
      "=====Accuracy=====\n",
      "90.0\n"
     ]
    }
   ],
   "source": [
    "print('=====Stage=====')\n",
    "stage = math.log((1-misclassification)/misclassification)\n",
    "print(stage)\n",
    "print('=====Accuracy=====')\n",
    "print((1-sum(error)/len(error))*100)"
   ]
  },
  {
   "cell_type": "markdown",
   "metadata": {},
   "source": [
    "## 31.3.1 Update Instance Weights"
   ]
  },
  {
   "cell_type": "code",
   "execution_count": 75,
   "metadata": {},
   "outputs": [
    {
     "name": "stdout",
     "output_type": "stream",
     "text": [
      "=====update_weight=====\n",
      "0.1\n",
      "0.1\n",
      "0.1\n",
      "0.1\n",
      "0.1\n",
      "0.1\n",
      "0.1\n",
      "0.1\n",
      "0.1\n",
      "0.12457309396155175\n"
     ]
    }
   ],
   "source": [
    "x2_split = float(df['Unnamed: 4'][32:33])\n",
    "\n",
    "update_weight = []\n",
    "print('=====update_weight=====')\n",
    "for i in range(len(weight)):\n",
    "    print(weight[i]*(math.exp(weight_error[i]*stage)))\n",
    "    update_weight.append(weight[i]*(math.exp(weight_error[i]*stage)))"
   ]
  },
  {
   "cell_type": "code",
   "execution_count": 76,
   "metadata": {},
   "outputs": [
    {
     "name": "stdout",
     "output_type": "stream",
     "text": [
      "=====Group=====\n",
      "RIGHT\n",
      "RIGHT\n",
      "LEFT\n",
      "LEFT\n",
      "RIGHT\n",
      "LEFT\n",
      "LEFT\n",
      "LEFT\n",
      "LEFT\n",
      "LEFT\n",
      "=====Prediction=====\n",
      "0\n",
      "0\n",
      "1\n",
      "1\n",
      "0\n",
      "1\n",
      "1\n",
      "1\n",
      "1\n",
      "1\n"
     ]
    }
   ],
   "source": [
    "group2 = judge_gorup(x2_split, x2)\n",
    "print('=====Group=====')\n",
    "for i in group2:\n",
    "    print(i)\n",
    "\n",
    "prediction2 = []\n",
    "print('=====Prediction=====')\n",
    "for n in group2:\n",
    "    if n == 'RIGHT':\n",
    "        print(0)\n",
    "        prediction2.append(0)\n",
    "    else:\n",
    "        print(1)\n",
    "        prediction2.append(1)"
   ]
  },
  {
   "cell_type": "code",
   "execution_count": 77,
   "metadata": {},
   "outputs": [
    {
     "name": "stdout",
     "output_type": "stream",
     "text": [
      "=====Error=====\n",
      "0\n",
      "0\n",
      "1\n",
      "1\n",
      "0\n",
      "0\n",
      "0\n",
      "0\n",
      "0\n",
      "0\n",
      "=====Weight Error=====\n",
      "0.0\n",
      "0.0\n",
      "0.1\n",
      "0.1\n",
      "0.0\n",
      "0.0\n",
      "0.0\n",
      "0.0\n",
      "0.0\n",
      "0.0\n"
     ]
    }
   ],
   "source": [
    "error2 = []\n",
    "\n",
    "print('=====Error=====')\n",
    "for i in range(len(prediction2)):\n",
    "    print(abs(int(prediction2[i]) - int(y[i])))\n",
    "    error2.append(abs(int(prediction2[i]) - int(y[i])))\n",
    "\n",
    "weight_error2 = []\n",
    "\n",
    "print('=====Weight Error=====')\n",
    "for i in range(len(error2)):\n",
    "    print(int(error2[i])*float(update_weight[i]))\n",
    "    weight_error2.append(int(error2[i])*float(update_weight[i]))"
   ]
  },
  {
   "cell_type": "code",
   "execution_count": 78,
   "metadata": {},
   "outputs": [
    {
     "name": "stdout",
     "output_type": "stream",
     "text": [
      "=====Sum Weights=====\n",
      "1.0245730939615516\n",
      "=====Sum Errors=====\n",
      "0.2\n",
      "=====Misclassification=====\n",
      "0.1952032521434779\n"
     ]
    }
   ],
   "source": [
    "print('=====Sum Weights=====')\n",
    "sum_w2 = sum(update_weight)\n",
    "print(sum_w2)\n",
    "\n",
    "print('=====Sum Errors=====')\n",
    "sum_e2 = (sum(weight_error2))\n",
    "print(sum_e2)\n",
    "\n",
    "print('=====Misclassification=====')\n",
    "misclassification2 = sum_e2/sum_w2\n",
    "print(misclassification2)"
   ]
  },
  {
   "cell_type": "code",
   "execution_count": 79,
   "metadata": {},
   "outputs": [
    {
     "name": "stdout",
     "output_type": "stream",
     "text": [
      "=====Stage=====\n",
      "1.4165484239922632\n",
      "=====Accuracy=====\n",
      "80.0\n"
     ]
    }
   ],
   "source": [
    "print('=====Stage=====')\n",
    "stage2 = math.log((1-misclassification2)/misclassification2)\n",
    "print(stage2)\n",
    "print('=====Accuracy=====')\n",
    "print((1-sum(error2)/len(error2))*100)"
   ]
  },
  {
   "cell_type": "markdown",
   "metadata": {},
   "source": [
    "## 31.5 Decision Stump: Model #3"
   ]
  },
  {
   "cell_type": "code",
   "execution_count": 80,
   "metadata": {},
   "outputs": [
    {
     "name": "stdout",
     "output_type": "stream",
     "text": [
      "=====update_weight=====\n",
      "0.1\n",
      "0.1\n",
      "0.11521788965937903\n",
      "0.11521788965937903\n",
      "0.1\n",
      "0.1\n",
      "0.1\n",
      "0.1\n",
      "0.1\n",
      "0.12457309396155175\n"
     ]
    }
   ],
   "source": [
    "x2_split = float(df['Unnamed: 4'][46:47])\n",
    "\n",
    "update_weight2 = []\n",
    "print('=====update_weight=====')\n",
    "for i in range(len(update_weight)):\n",
    "    print(update_weight[i]*(math.exp(weight_error2[i]*stage2)))\n",
    "    update_weight2.append(update_weight[i]*(math.exp(weight_error2[i]*stage2)))"
   ]
  },
  {
   "cell_type": "code",
   "execution_count": 81,
   "metadata": {},
   "outputs": [
    {
     "name": "stdout",
     "output_type": "stream",
     "text": [
      "=====Group=====\n",
      "RIGHT\n",
      "RIGHT\n",
      "RIGHT\n",
      "RIGHT\n",
      "RIGHT\n",
      "RIGHT\n",
      "LEFT\n",
      "RIGHT\n",
      "LEFT\n",
      "LEFT\n",
      "=====Prediction=====\n",
      "0\n",
      "0\n",
      "0\n",
      "0\n",
      "0\n",
      "0\n",
      "1\n",
      "0\n",
      "1\n",
      "1\n"
     ]
    }
   ],
   "source": [
    "group3 = judge_gorup(x2_split, x2)\n",
    "print('=====Group=====')\n",
    "for i in group3:\n",
    "    print(i)\n",
    "\n",
    "prediction3 = []\n",
    "print('=====Prediction=====')\n",
    "for n in group3:\n",
    "    if n == 'RIGHT':\n",
    "        print(0)\n",
    "        prediction3.append(0)\n",
    "    else:\n",
    "        print(1)\n",
    "        prediction3.append(1)"
   ]
  },
  {
   "cell_type": "code",
   "execution_count": 83,
   "metadata": {},
   "outputs": [
    {
     "name": "stdout",
     "output_type": "stream",
     "text": [
      "=====Error=====\n",
      "0\n",
      "0\n",
      "0\n",
      "0\n",
      "0\n",
      "1\n",
      "0\n",
      "1\n",
      "0\n",
      "0\n",
      "=====Weight Error=====\n",
      "0.0\n",
      "0.0\n",
      "0.0\n",
      "0.0\n",
      "0.0\n",
      "0.1\n",
      "0.0\n",
      "0.1\n",
      "0.0\n",
      "0.0\n"
     ]
    }
   ],
   "source": [
    "error3 = []\n",
    "\n",
    "print('=====Error=====')\n",
    "for i in range(len(prediction3)):\n",
    "    print(abs(int(prediction3[i]) - int(y[i])))\n",
    "    error3.append(abs(int(prediction3[i]) - int(y[i])))\n",
    "\n",
    "weight_error3 = []\n",
    "\n",
    "print('=====Weight Error=====')\n",
    "for i in range(len(error3)):\n",
    "    print(int(error3[i])*float(update_weight2[i]))\n",
    "    weight_error3.append(int(error3[i])*float(update_weight2[i]))"
   ]
  },
  {
   "cell_type": "code",
   "execution_count": 84,
   "metadata": {},
   "outputs": [
    {
     "name": "stdout",
     "output_type": "stream",
     "text": [
      "=====Sum Weights=====\n",
      "1.0550088732803098\n",
      "=====Sum Errors=====\n",
      "0.2\n",
      "=====Misclassification=====\n",
      "0.18957186528502415\n"
     ]
    }
   ],
   "source": [
    "print('=====Sum Weights=====')\n",
    "sum_w3 = sum(update_weight2)\n",
    "print(sum_w3)\n",
    "\n",
    "print('=====Sum Errors=====')\n",
    "sum_e3 = (sum(weight_error3))\n",
    "print(sum_e3)\n",
    "\n",
    "print('=====Misclassification=====')\n",
    "misclassification3 = sum_e3/sum_w3\n",
    "print(misclassification3)"
   ]
  },
  {
   "cell_type": "code",
   "execution_count": 85,
   "metadata": {},
   "outputs": [
    {
     "name": "stdout",
     "output_type": "stream",
     "text": [
      "=====Stage=====\n",
      "1.4527944804404969\n",
      "=====Accuracy=====\n",
      "80.0\n"
     ]
    }
   ],
   "source": [
    "print('=====Stage=====')\n",
    "stage3 = math.log((1-misclassification3)/misclassification3)\n",
    "print(stage3)\n",
    "print('=====Accuracy=====')\n",
    "print((1-sum(error3)/len(error3))*100)"
   ]
  },
  {
   "cell_type": "markdown",
   "metadata": {},
   "source": [
    "## 31.6 Make Predictions with AdaBoost Model"
   ]
  },
  {
   "cell_type": "code",
   "execution_count": 89,
   "metadata": {},
   "outputs": [],
   "source": [
    "def calc_weighted_stage(prediction, stage):\n",
    "    model = []\n",
    "    for i in prediction:\n",
    "        if i == 1:\n",
    "            model.append(stage*1)\n",
    "        else:\n",
    "            model.append(stage*(-1))\n",
    "    return model"
   ]
  },
  {
   "cell_type": "code",
   "execution_count": 93,
   "metadata": {},
   "outputs": [
    {
     "name": "stdout",
     "output_type": "stream",
     "text": [
      "=========Model1========\n",
      "-2.1972245773362196\n",
      "-2.1972245773362196\n",
      "-2.1972245773362196\n",
      "-2.1972245773362196\n",
      "-2.1972245773362196\n",
      "2.1972245773362196\n",
      "2.1972245773362196\n",
      "2.1972245773362196\n",
      "2.1972245773362196\n",
      "-2.1972245773362196\n"
     ]
    }
   ],
   "source": [
    "model1 = calc_weighted_stage(prediction, stage)\n",
    "\n",
    "print('=========Model1========')\n",
    "for i in model1:\n",
    "    print(i)"
   ]
  },
  {
   "cell_type": "code",
   "execution_count": 94,
   "metadata": {},
   "outputs": [
    {
     "name": "stdout",
     "output_type": "stream",
     "text": [
      "=========Model2========\n",
      "-1.4165484239922632\n",
      "-1.4165484239922632\n",
      "1.4165484239922632\n",
      "1.4165484239922632\n",
      "-1.4165484239922632\n",
      "1.4165484239922632\n",
      "1.4165484239922632\n",
      "1.4165484239922632\n",
      "1.4165484239922632\n",
      "1.4165484239922632\n"
     ]
    }
   ],
   "source": [
    "model2 = calc_weighted_stage(prediction2, stage2)\n",
    "print('=========Model2========')\n",
    "for i in model2:\n",
    "    print(i)"
   ]
  },
  {
   "cell_type": "code",
   "execution_count": 96,
   "metadata": {},
   "outputs": [
    {
     "name": "stdout",
     "output_type": "stream",
     "text": [
      "=========Model3========\n",
      "-1.4527944804404969\n",
      "-1.4527944804404969\n",
      "-1.4527944804404969\n",
      "-1.4527944804404969\n",
      "-1.4527944804404969\n",
      "-1.4527944804404969\n",
      "1.4527944804404969\n",
      "-1.4527944804404969\n",
      "1.4527944804404969\n",
      "1.4527944804404969\n"
     ]
    }
   ],
   "source": [
    "model3 = calc_weighted_stage(prediction3, stage3)\n",
    "print('=========Model3========')\n",
    "for i in model3:\n",
    "    print(i)"
   ]
  },
  {
   "cell_type": "code",
   "execution_count": 101,
   "metadata": {},
   "outputs": [
    {
     "name": "stdout",
     "output_type": "stream",
     "text": [
      "=========SUM========\n",
      "-5.066567481768979\n",
      "-5.066567481768979\n",
      "-2.233470633784453\n",
      "-2.233470633784453\n",
      "-5.066567481768979\n",
      "2.160978520887986\n",
      "5.066567481768979\n",
      "2.160978520887986\n",
      "5.066567481768979\n",
      "0.6721183270965405\n",
      "=========Prediction========\n",
      "0\n",
      "0\n",
      "0\n",
      "0\n",
      "0\n",
      "1\n",
      "1\n",
      "1\n",
      "1\n",
      "1\n"
     ]
    }
   ],
   "source": [
    "sum_model = []\n",
    "\n",
    "print('=========SUM========')\n",
    "for i in range(len(model1)):\n",
    "    print(model1[i]+model2[i]+model3[i])\n",
    "    sum_model.append(model1[i]+model2[i]+model3[i])\n",
    "\n",
    "prediction_model = []\n",
    "print('=========Prediction========')\n",
    "for i in sum_model:\n",
    "    if i > 0:\n",
    "        print(1)\n",
    "        prediction_model.append(1)\n",
    "    else:\n",
    "        print(0)\n",
    "        prediction_model.append(0)"
   ]
  },
  {
   "cell_type": "code",
   "execution_count": 110,
   "metadata": {},
   "outputs": [
    {
     "name": "stdout",
     "output_type": "stream",
     "text": [
      "=====Error=====\n",
      "0\n",
      "0\n",
      "0\n",
      "0\n",
      "0\n",
      "0\n",
      "0\n",
      "0\n",
      "0\n",
      "0\n",
      "=====Accuracy=====\n",
      "100.0\n"
     ]
    }
   ],
   "source": [
    "y_model = list(df['Unnamed: 7'][60:70])\n",
    "y_model = [float(s) for s in y_model]\n",
    "\n",
    "error_model = []\n",
    "print('=====Error=====')\n",
    "for i in range(len(prediction_model)):\n",
    "    print(abs(int(prediction_model[i]) - int(y_model[i])))\n",
    "    error_model.append(abs(int(prediction_model[i]) - int(y_model[i])))\n",
    "    \n",
    "print('=====Accuracy=====')\n",
    "print((1-sum(error_model)/len(error_model))*100)"
   ]
  },
  {
   "cell_type": "code",
   "execution_count": null,
   "metadata": {},
   "outputs": [],
   "source": []
  },
  {
   "cell_type": "code",
   "execution_count": null,
   "metadata": {},
   "outputs": [],
   "source": []
  }
 ],
 "metadata": {
  "kernelspec": {
   "display_name": "Python 3",
   "language": "python",
   "name": "python3"
  },
  "language_info": {
   "codemirror_mode": {
    "name": "ipython",
    "version": 3
   },
   "file_extension": ".py",
   "mimetype": "text/x-python",
   "name": "python",
   "nbconvert_exporter": "python",
   "pygments_lexer": "ipython3",
   "version": "3.6.4"
  }
 },
 "nbformat": 4,
 "nbformat_minor": 2
}
