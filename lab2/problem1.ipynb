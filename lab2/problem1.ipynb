{
 "cells": [
  {
   "cell_type": "markdown",
   "metadata": {},
   "source": [
    "## Show the calculation process by Manual calculation\n",
    "- [Manual calculation1]('/pic/cal1.pdf') \n",
    "- [Manual calculation2]('/pic/cal2.pdf') "
   ]
  },
  {
   "cell_type": "markdown",
   "metadata": {},
   "source": [
    "## Check the result of manual calculation from python programming."
   ]
  },
  {
   "cell_type": "code",
   "execution_count": 8,
   "metadata": {},
   "outputs": [
    {
     "name": "stdout",
     "output_type": "stream",
     "text": [
      "0.48508697401958595 -4.069489782229578\n"
     ]
    }
   ],
   "source": [
    "import numpy as np\n",
    "import matplotlib.pyplot as plt\n",
    "\n",
    "x = np.array([4,15,30,100])\n",
    "y = np.array([17,-4,-7,50])\n",
    "\n",
    "def reg1dim(x, y):\n",
    "    n = len(x)\n",
    "    a = ((np.dot(x, y)- y.sum() * x.sum()/n)/\n",
    "        ((x ** 2).sum() - x.sum()**2 / n))\n",
    "    b = (y.sum() - a * x.sum())/n\n",
    "    return a, b\n",
    "\n",
    "a, b = reg1dim(x, y)\n"
   ]
  },
  {
   "cell_type": "code",
   "execution_count": null,
   "metadata": {},
   "outputs": [],
   "source": []
  }
 ],
 "metadata": {
  "kernelspec": {
   "display_name": "Python 3",
   "language": "python",
   "name": "python3"
  },
  "language_info": {
   "codemirror_mode": {
    "name": "ipython",
    "version": 3
   },
   "file_extension": ".py",
   "mimetype": "text/x-python",
   "name": "python",
   "nbconvert_exporter": "python",
   "pygments_lexer": "ipython3",
   "version": "3.6.4"
  }
 },
 "nbformat": 4,
 "nbformat_minor": 2
}
