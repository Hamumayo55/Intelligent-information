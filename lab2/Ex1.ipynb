{
 "cells": [
  {
   "cell_type": "code",
   "execution_count": 2,
   "metadata": {},
   "outputs": [],
   "source": [
    "import pandas as pd\n",
    "import numpy as np"
   ]
  },
  {
   "cell_type": "code",
   "execution_count": 26,
   "metadata": {},
   "outputs": [],
   "source": [
    "df = pd.read_csv('../data/csv/02-SimpleLinearRegression.csv')\n",
    "#df"
   ]
  },
  {
   "cell_type": "markdown",
   "metadata": {},
   "source": [
    "# Chapter11\n",
    "## 11.1 Tutorial Data Set"
   ]
  },
  {
   "cell_type": "code",
   "execution_count": 28,
   "metadata": {},
   "outputs": [],
   "source": [
    "x = list(df['Simple Linear Regression'][3:8])\n",
    "x = [int(n) for n in x]"
   ]
  },
  {
   "cell_type": "code",
   "execution_count": 102,
   "metadata": {},
   "outputs": [],
   "source": [
    "y = list(df['Unnamed: 1'][3:8])\n",
    "y = [int(n) for n in y]"
   ]
  },
  {
   "cell_type": "code",
   "execution_count": 103,
   "metadata": {},
   "outputs": [
    {
     "data": {
      "text/plain": [
       "Text(0,0.5,'y')"
      ]
     },
     "execution_count": 103,
     "metadata": {},
     "output_type": "execute_result"
    },
    {
     "data": {
      "image/png": "[encoded data removed]",
      "text/plain": [
       "<Figure size 432x288 with 1 Axes>"
      ]
     },
     "metadata": {},
     "output_type": "display_data"
    }
   ],
   "source": [
    "import matplotlib.pyplot as plt\n",
    "\n",
    "fig = plt.figure()\n",
    "\n",
    "ax = fig.add_subplot(1,1,1)\n",
    "\n",
    "ax.scatter(x,y)\n",
    "\n",
    "ax.set_title('x versus y')\n",
    "ax.set_xlabel('x')\n",
    "ax.set_ylabel('y')"
   ]
  },
  {
   "cell_type": "markdown",
   "metadata": {},
   "source": [
    "## 11.2 Simple Linear Regression"
   ]
  },
  {
   "cell_type": "code",
   "execution_count": 38,
   "metadata": {},
   "outputs": [
    {
     "data": {
      "text/plain": [
       "3"
      ]
     },
     "execution_count": 38,
     "metadata": {},
     "output_type": "execute_result"
    }
   ],
   "source": [
    "import statistics\n",
    "mean_x = statistics.mean(x)\n",
    "mean_x"
   ]
  },
  {
   "cell_type": "code",
   "execution_count": 40,
   "metadata": {},
   "outputs": [
    {
     "name": "stdout",
     "output_type": "stream",
     "text": [
      "-2\n",
      "-1\n",
      "1\n",
      "0\n",
      "2\n"
     ]
    }
   ],
   "source": [
    "# x-mean(x) --> diff_x\n",
    "diff_x = []\n",
    "for i in x:\n",
    "    print(i-mean_x)\n",
    "    diff_x.append(i-mean_x)"
   ]
  },
  {
   "cell_type": "code",
   "execution_count": 104,
   "metadata": {},
   "outputs": [
    {
     "data": {
      "text/plain": [
       "2.8"
      ]
     },
     "execution_count": 104,
     "metadata": {},
     "output_type": "execute_result"
    }
   ],
   "source": [
    "mean_y = statistics.mean(y)\n",
    "mean_y"
   ]
  },
  {
   "cell_type": "code",
   "execution_count": 45,
   "metadata": {},
   "outputs": [
    {
     "name": "stdout",
     "output_type": "stream",
     "text": [
      "-1.8\n",
      "0.2\n",
      "0.2\n",
      "-0.8\n",
      "2.2\n"
     ]
    }
   ],
   "source": [
    "# y-mean(y) --> diff_y\n",
    "\n",
    "diff_y = []\n",
    "for n in y:\n",
    "    print(round(n-mean_y, 1))\n",
    "    diff_y.append(round(n-mean_y, 1))"
   ]
  },
  {
   "cell_type": "code",
   "execution_count": 56,
   "metadata": {},
   "outputs": [
    {
     "name": "stdout",
     "output_type": "stream",
     "text": [
      "[3.6, -0.2, 0.2, -0.0, 4.4]\n",
      "Sum：8.0\n"
     ]
    }
   ],
   "source": [
    "# Multiplication x-mean(x)*y-mean(y)\n",
    "multiplication = []\n",
    "for i in range(len(diff_y)):\n",
    "    multiplication.append(diff_x[i]*diff_y[i])\n",
    "    \n",
    "print(multiplication)\n",
    "print(\"Sum：\"+str(sum(multiplication)))"
   ]
  },
  {
   "cell_type": "code",
   "execution_count": 57,
   "metadata": {},
   "outputs": [
    {
     "name": "stdout",
     "output_type": "stream",
     "text": [
      "[4, 1, 1, 0, 4]\n",
      "Sum：10\n"
     ]
    }
   ],
   "source": [
    "# Squared residual of each x value from the mean.\n",
    "squared_x = []\n",
    "\n",
    "for j in diff_x:\n",
    "    squared_x.append(j**2)\n",
    "    \n",
    "print(squared_x)\n",
    "print(\"Sum：\"+str(sum(squared_x)))"
   ]
  },
  {
   "cell_type": "code",
   "execution_count": 59,
   "metadata": {},
   "outputs": [
    {
     "data": {
      "text/plain": [
       "0.8"
      ]
     },
     "execution_count": 59,
     "metadata": {},
     "output_type": "execute_result"
    }
   ],
   "source": [
    "B1 = sum(multiplication)/sum(squared_x)\n",
    "B1"
   ]
  },
  {
   "cell_type": "code",
   "execution_count": 65,
   "metadata": {},
   "outputs": [
    {
     "data": {
      "text/plain": [
       "0.4"
      ]
     },
     "execution_count": 65,
     "metadata": {},
     "output_type": "execute_result"
    }
   ],
   "source": [
    "B0 = round(mean_y - B1*mean_x, 1)\n",
    "B0"
   ]
  },
  {
   "cell_type": "markdown",
   "metadata": {},
   "source": [
    "## 11.3 Making Predictions"
   ]
  },
  {
   "cell_type": "code",
   "execution_count": 68,
   "metadata": {},
   "outputs": [
    {
     "data": {
      "text/plain": [
       "[1.2, 2.0, 3.6, 2.8, 4.4]"
      ]
     },
     "execution_count": 68,
     "metadata": {},
     "output_type": "execute_result"
    }
   ],
   "source": [
    "predicted_Y = []\n",
    "for i in x:\n",
    "    predicted_Y.append(round(B0+B1*i,1))\n",
    "predicted_Y"
   ]
  },
  {
   "cell_type": "code",
   "execution_count": 70,
   "metadata": {},
   "outputs": [
    {
     "data": {
      "text/plain": [
       "Text(0,0.5,'y')"
      ]
     },
     "execution_count": 70,
     "metadata": {},
     "output_type": "execute_result"
    },
    {
     "data": {
      "image/png": "[encoded data removed]",
      "text/plain": [
       "<Figure size 432x288 with 1 Axes>"
      ]
     },
     "metadata": {},
     "output_type": "display_data"
    }
   ],
   "source": [
    "fig = plt.figure()\n",
    "\n",
    "ax = fig.add_subplot(1,1,1)\n",
    "\n",
    "ax.scatter(x,y)\n",
    "ax.scatter(x,predicted_Y)\n",
    "plt.plot(x,predicted_Y)\n",
    "ax.set_title('x versus y')\n",
    "ax.set_xlabel('x')\n",
    "ax.set_ylabel('y')"
   ]
  },
  {
   "cell_type": "code",
   "execution_count": 73,
   "metadata": {},
   "outputs": [
    {
     "data": {
      "text/plain": [
       "[0.2, -1.0, 0.6, 0.8, -0.6]"
      ]
     },
     "execution_count": 73,
     "metadata": {},
     "output_type": "execute_result"
    }
   ],
   "source": [
    "# Error for predicted values\n",
    "diff_predicted = []\n",
    "for i in range(len(predicted_Y)):\n",
    "    diff_predicted.append(round(predicted_Y[i]-y[i],1))\n",
    "diff_predicted"
   ]
  },
  {
   "cell_type": "code",
   "execution_count": 77,
   "metadata": {},
   "outputs": [
    {
     "name": "stdout",
     "output_type": "stream",
     "text": [
      "[0.04, 1.0, 0.36, 0.64, 0.36]\n",
      "Sum：2.4\n"
     ]
    }
   ],
   "source": [
    "# squared error\n",
    "squared_error = []\n",
    "for i in diff_predicted:\n",
    "    squared_error.append(round(i**2,2))\n",
    "print(squared_error)\n",
    "print(\"Sum：\"+str(sum(squared_error)))"
   ]
  },
  {
   "cell_type": "code",
   "execution_count": 79,
   "metadata": {},
   "outputs": [
    {
     "data": {
      "text/plain": [
       "0.6928203230275509"
      ]
     },
     "execution_count": 79,
     "metadata": {},
     "output_type": "execute_result"
    }
   ],
   "source": [
    "# RMSE\n",
    "RMSE = (sum(squared_error)/len(squared_error))**0.5\n",
    "RMSE"
   ]
  },
  {
   "cell_type": "markdown",
   "metadata": {},
   "source": [
    "## 11.5 Shortcut"
   ]
  },
  {
   "cell_type": "code",
   "execution_count": 91,
   "metadata": {},
   "outputs": [
    {
     "name": "stdout",
     "output_type": "stream",
     "text": [
      "0.8528028654224417\n",
      "1.5811388300841898\n",
      "1.4832396974191326\n",
      "0.8\n"
     ]
    }
   ],
   "source": [
    "corr = np.corrcoef(x,y)[1][0]\n",
    "print(corr)\n",
    "print(statistics.stdev(x))\n",
    "print(statistics.stdev(y))\n",
    "\n",
    "B1 = corr*statistics.stdev(y)/statistics.stdev(x)\n",
    "B0 = corr*statistics.stdev(x)/statistics.stdev(y)\n",
    "\n",
    "print(round(B1,1))"
   ]
  },
  {
   "cell_type": "markdown",
   "metadata": {},
   "source": [
    "# Chapter12\n",
    "## 12.1 Tutorial Data Set"
   ]
  },
  {
   "cell_type": "code",
   "execution_count": 92,
   "metadata": {},
   "outputs": [],
   "source": [
    "df = pd.read_csv('../data/csv/03-SimpleLinearRegressionGradientDescent.csv')"
   ]
  },
  {
   "cell_type": "code",
   "execution_count": 101,
   "metadata": {},
   "outputs": [
    {
     "name": "stdout",
     "output_type": "stream",
     "text": [
      "[1, 2, 4, 3, 5] [1, 3, 3, 2, 5]\n"
     ]
    },
    {
     "data": {
      "text/plain": [
       "Text(0,0.5,'y')"
      ]
     },
     "execution_count": 101,
     "metadata": {},
     "output_type": "execute_result"
    },
    {
     "data": {
      "image/png": "[encoded data removed]",
      "text/plain": [
       "<Figure size 432x288 with 1 Axes>"
      ]
     },
     "metadata": {},
     "output_type": "display_data"
    }
   ],
   "source": [
    "x = list(df['Unnamed: 1'][10:15])\n",
    "x = [int(n) for n in x]\n",
    "\n",
    "y = list(df['Unnamed: 2'][10:15])\n",
    "y = [int(n) for n in y]\n",
    "print(x,y)\n",
    "\n",
    "fig = plt.figure()\n",
    "\n",
    "ax = fig.add_subplot(1,1,1)\n",
    "\n",
    "ax.scatter(x,y)\n",
    "\n",
    "ax.set_title('x versus y')\n",
    "ax.set_xlabel('x')\n",
    "ax.set_ylabel('y')"
   ]
  },
  {
   "cell_type": "code",
   "execution_count": 112,
   "metadata": {},
   "outputs": [
    {
     "name": "stdout",
     "output_type": "stream",
     "text": [
      "[1, 2, 4, 3, 5, 1, 2, 4, 3, 5, 1, 2, 4, 3, 5, 1, 2, 4, 3, 5]\n",
      "[1, 3, 3, 2, 5, 1, 3, 3, 2, 5, 1, 3, 3, 2, 5, 1, 3, 3, 2, 5]\n",
      "[0.0, 0.01, 0.0397, 0.066527, 0.08056049, 0.118814462, 0.123525534, 0.14399449, 0.154325453, 0.157870663, 0.180907617, 0.182869825, 0.198544452, 0.200311686, 0.19841101, 0.213549404, 0.21408149, 0.227265196, 0.224586888, 0.219858174]\n",
      "[0.0, 0.01, 0.0694, 0.176708, 0.21880847, 0.410078328, 0.4147894, 0.455727313, 0.497051164, 0.507686795, 0.622871563, 0.624833772, 0.656183024, 0.663251962, 0.657549935, 0.733241901, 0.733773988, 0.760141398, 0.749428167, 0.735242025]\n"
     ]
    }
   ],
   "source": [
    "# import data\n",
    "x = list(df['Unnamed: 1'][10:30])\n",
    "x = [int(n) for n in x]\n",
    "print(x)\n",
    "y = list(df['Unnamed: 2'][10:30])\n",
    "y = [int(n) for n in y]\n",
    "print(y)\n",
    "w0 = list(df['Unnamed: 3'][10:30])\n",
    "w0 = [float(n) for n in w0]\n",
    "print(w0)\n",
    "w1 = list(df['Unnamed: 4'][10:30])\n",
    "w1 = [float(n) for n in w1]\n",
    "print(w1)"
   ]
  },
  {
   "cell_type": "code",
   "execution_count": 113,
   "metadata": {},
   "outputs": [
    {
     "data": {
      "text/plain": [
       "[0.0,\n",
       " 0.03,\n",
       " 0.3173,\n",
       " 0.596651,\n",
       " 1.1746028400000001,\n",
       " 0.52889279,\n",
       " 0.9531043339999999,\n",
       " 1.9669037420000002,\n",
       " 1.645478945,\n",
       " 2.6963046380000004,\n",
       " 0.80377918,\n",
       " 1.432537369,\n",
       " 2.823276548,\n",
       " 2.1900675720000002,\n",
       " 3.486160685,\n",
       " 0.946791305,\n",
       " 1.6816294660000002,\n",
       " 3.267830788,\n",
       " 2.4728713890000003,\n",
       " 3.896068299]"
      ]
     },
     "execution_count": 113,
     "metadata": {},
     "output_type": "execute_result"
    }
   ],
   "source": [
    "# Prediction\n",
    "prediction = []\n",
    "for i in range(len(x)):\n",
    "    prediction.append(w0[i]+w1[i]*x[i])\n",
    "prediction"
   ]
  },
  {
   "cell_type": "code",
   "execution_count": 114,
   "metadata": {},
   "outputs": [
    {
     "data": {
      "text/plain": [
       "[-1.0,\n",
       " -2.97,\n",
       " -2.6827,\n",
       " -1.403349,\n",
       " -3.8253971599999996,\n",
       " -0.47110721,\n",
       " -2.046895666,\n",
       " -1.0330962579999998,\n",
       " -0.354521055,\n",
       " -2.3036953619999996,\n",
       " -0.19622081999999996,\n",
       " -1.567462631,\n",
       " -0.17672345200000006,\n",
       " 0.19006757200000024,\n",
       " -1.5138393149999998,\n",
       " -0.05320869500000003,\n",
       " -1.3183705339999998,\n",
       " 0.26783078799999993,\n",
       " 0.47287138900000025,\n",
       " -1.103931701]"
      ]
     },
     "execution_count": 114,
     "metadata": {},
     "output_type": "execute_result"
    }
   ],
   "source": [
    "# Error\n",
    "error = []\n",
    "for n in range(len(prediction)):\n",
    "    error.append(prediction[n]-y[n])\n",
    "error"
   ]
  },
  {
   "cell_type": "code",
   "execution_count": 149,
   "metadata": {},
   "outputs": [
    {
     "data": {
      "text/plain": [
       "[1.0,\n",
       " 8.820900000000002,\n",
       " 7.19687929,\n",
       " 1.9693884158009998,\n",
       " 14.633663431736062,\n",
       " 0.2219420033139841,\n",
       " 4.189781867489584,\n",
       " 1.0672878782936022,\n",
       " 0.125685178438313,\n",
       " 5.307012320900309,\n",
       " 0.03850261020147239,\n",
       " 2.456939099581442,\n",
       " 0.031231178486796324,\n",
       " 0.036125681925975275,\n",
       " 2.2917094716396686,\n",
       " 0.002831165223603028,\n",
       " 1.7381008649194447,\n",
       " 0.07173333100070091,\n",
       " 0.22360735053478956,\n",
       " 1.2186652004727534]"
      ]
     },
     "execution_count": 149,
     "metadata": {},
     "output_type": "execute_result"
    }
   ],
   "source": [
    "# Error Squared\n",
    "error_squared = []\n",
    "\n",
    "for i in error:\n",
    "    error_squared.append(i**2)\n",
    "error_squared"
   ]
  },
  {
   "cell_type": "code",
   "execution_count": 136,
   "metadata": {},
   "outputs": [
    {
     "name": "stdout",
     "output_type": "stream",
     "text": [
      "[0.01, 0.039700000000000006, 0.066527, 0.08056049, 0.1188144616, 0.1235255341, 0.14399449066, 0.15432545258, 0.15787066355, 0.18090761662, 0.1828698252, 0.19854445131, 0.20031168652, 0.19841101028, 0.21354940314999998, 0.21408149095, 0.22726519534, 0.22458688812, 0.21985817411, 0.23089749100999998]\n",
      "----------\n",
      "[0.01, 0.0694, 0.176708, 0.21880847, 0.410078328, 0.4147894001, 0.45572731332, 0.49705116332, 0.50768679565, 0.6228715631, 0.6248337712, 0.65618302462, 0.6632519620799999, 0.65754993484, 0.7332419007500001, 0.7337739879499999, 0.7601413986800001, 0.74942816648, 0.73524202533, 0.79043861005]\n"
     ]
    }
   ],
   "source": [
    "# calculate B0(t+1) and B1(t+1)\n",
    "learning_rate = list(df['Unnamed: 6'][10:30])\n",
    "learning_rate = [float(n) for n in learning_rate]\n",
    "\n",
    "B_0 = []\n",
    "for i in range(len(w0)):\n",
    "    B_0.append(w0[i]-learning_rate[i]*error[i])\n",
    "\n",
    "B_1 = []\n",
    "for i in range(len(w0)):\n",
    "    B_1.append(w1[i]-learning_rate[i]*error[i]*x[i])\n",
    "print(B_0)\n",
    "print(\"----------\")\n",
    "print(B_1)"
   ]
  },
  {
   "cell_type": "code",
   "execution_count": 144,
   "metadata": {},
   "outputs": [
    {
     "data": {
      "text/plain": [
       "Text(0,0.5,'y')"
      ]
     },
     "execution_count": 144,
     "metadata": {},
     "output_type": "execute_result"
    },
    {
     "data": {
      "image/png": "[encoded data removed]",
      "text/plain": [
       "<Figure size 432x288 with 1 Axes>"
      ]
     },
     "metadata": {},
     "output_type": "display_data"
    }
   ],
   "source": [
    "x_axis = list(range(1,21))\n",
    "fig = plt.figure()\n",
    "ax = fig.add_subplot(1,1,1)\n",
    "ax.scatter(x_axis,error)\n",
    "ax.plot(x_axis,error)\n",
    "\n",
    "ax.set_title('error')"
   ]
  },
  {
   "cell_type": "code",
   "execution_count": 165,
   "metadata": {},
   "outputs": [
    {
     "data": {
      "text/plain": [
       "[<matplotlib.lines.Line2D at 0x1259fb390>]"
      ]
     },
     "execution_count": 165,
     "metadata": {},
     "output_type": "execute_result"
    },
    {
     "data": {
      "image/png": "[encoded data removed]",
      "text/plain": [
       "<Figure size 432x288 with 1 Axes>"
      ]
     },
     "metadata": {},
     "output_type": "display_data"
    }
   ],
   "source": [
    "# Prediction\n",
    "x = list(df['Unnamed: 1'][10:15])\n",
    "x = [int(n) for n in x]\n",
    "\n",
    "y = list(df['Unnamed: 2'][10:15])\n",
    "y = [int(n) for n in y]\n",
    "\n",
    "prediction = []\n",
    "for i in x:\n",
    "    prediction.append(B_0[len(B_0)-1]+i*B_1[len(B_1)-1])\n",
    "prediction\n",
    "\n",
    "\n",
    "fig = plt.figure()\n",
    "ax = fig.add_subplot(1,1,1)\n",
    "ax.scatter(x,y)\n",
    "ax.scatter(x,prediction)\n",
    "ax.plot(x,prediction)"
   ]
  },
  {
   "cell_type": "code",
   "execution_count": 156,
   "metadata": {},
   "outputs": [
    {
     "data": {
      "text/plain": [
       "[0.021336101059999946,\n",
       " -1.18822528889,\n",
       " 0.3926519312100001,\n",
       " 0.6022133211600003,\n",
       " -0.8169094587399996]"
      ]
     },
     "execution_count": 156,
     "metadata": {},
     "output_type": "execute_result"
    }
   ],
   "source": [
    "# Predicted-y\n",
    "diff = []\n",
    "for i in range(len(prediction)):\n",
    "    diff.append(prediction[i]-y[i])\n",
    "diff"
   ]
  },
  {
   "cell_type": "code",
   "execution_count": 161,
   "metadata": {},
   "outputs": [
    {
     "name": "stdout",
     "output_type": "stream",
     "text": [
      "[0.0004552292084425308, 1.411879337157724, 0.15417553908294263, 0.3626608841825576, 0.6673410637788791]\n",
      "Sum：2.596512053410546\n",
      "RMSE：0.7206264015994065\n"
     ]
    }
   ],
   "source": [
    "# squared error\n",
    "\n",
    "squared_error = []\n",
    "\n",
    "for i in diff:\n",
    "    squared_error.append(i**2)\n",
    "print(squared_error)\n",
    "print(\"Sum：\"+str(sum(squared_error)))\n",
    "RMSE = (sum(squared_error)/len(squared_error))**0.5\n",
    "print(\"RMSE：\"+str(RMSE))"
   ]
  },
  {
   "cell_type": "markdown",
   "metadata": {},
   "source": [
    "# Chapter14\n",
    "## 14.1 Tutorial Dataset"
   ]
  },
  {
   "cell_type": "code",
   "execution_count": 179,
   "metadata": {},
   "outputs": [],
   "source": [
    "df = pd.read_csv('../data/csv/05-LogisticRegression.csv')\n"
   ]
  },
  {
   "cell_type": "code",
   "execution_count": 178,
   "metadata": {},
   "outputs": [],
   "source": [
    "# import data\n",
    "x_1_0 = list(df['Logistic Regression with Stochastic Gradient Descent'][3:8])\n",
    "x_1_0 = [float(n) for n in x_1_0]\n",
    "\n",
    "x_1_1 = list(df['Logistic Regression with Stochastic Gradient Descent'][8:13])\n",
    "x_1_1 = [float(n) for n in x_1_1]\n",
    "\n",
    "\n",
    "x_2_0 = list(df['Unnamed: 1'][3:8])\n",
    "x_2_0 = [float(n) for n in x_2_0]\n",
    "\n",
    "x_2_1 = list(df['Unnamed: 1'][8:13])\n",
    "x_2_1 = [float(n) for n in x_2_1]"
   ]
  },
  {
   "cell_type": "code",
   "execution_count": 180,
   "metadata": {},
   "outputs": [
    {
     "data": {
      "text/plain": [
       "<matplotlib.collections.PathCollection at 0x125b77e10>"
      ]
     },
     "execution_count": 180,
     "metadata": {},
     "output_type": "execute_result"
    },
    {
     "data": {
      "image/png": "[encoded data removed]",
      "text/plain": [
       "<Figure size 432x288 with 1 Axes>"
      ]
     },
     "metadata": {},
     "output_type": "display_data"
    }
   ],
   "source": [
    "fig = plt.figure()\n",
    "\n",
    "ax = fig.add_subplot(1,1,1)\n",
    "\n",
    "ax.scatter(x_1_0,x_2_0)\n",
    "ax.scatter(x_1_1,x_2_1)"
   ]
  },
  {
   "cell_type": "code",
   "execution_count": 190,
   "metadata": {},
   "outputs": [],
   "source": [
    "bias = list(df['Unnamed: 1'][18:118])\n",
    "bias = [int(n) for n in bias]\n",
    "\n",
    "x1 = list(df['Unnamed: 2'][18:118])\n",
    "x1 = [float(n) for n in x1]\n",
    "\n",
    "x2 = list(df['Unnamed: 3'][18:118])\n",
    "x2 = [float(n) for n in x2]\n",
    "\n",
    "B0 = list(df['Unnamed: 5'][18:118])\n",
    "B0 = [float(n) for n in B0]\n",
    "\n",
    "B1 = list(df['Unnamed: 6'][18:118])\n",
    "B1 = [float(n) for n in B1]\n",
    "\n",
    "B2 = list(df['Unnamed: 7'][18:118])\n",
    "B2 = [float(n) for n in B2]"
   ]
  },
  {
   "cell_type": "code",
   "execution_count": 193,
   "metadata": {},
   "outputs": [
    {
     "data": {
      "text/plain": [
       "[0.5,\n",
       " 0.39741142305387483,\n",
       " 0.21754589981437975,\n",
       " 0.3263876379526889,\n",
       " 0.18088488637456532,\n",
       " 0.06377702208281255,\n",
       " 0.23889457852068943,\n",
       " 0.6144752961528799,\n",
       " 0.93147281436113,\n",
       " 0.885110978044225,\n",
       " 0.6716895883283005,\n",
       " 0.4482611029694069,\n",
       " 0.3239707438883936,\n",
       " 0.339538778104406,\n",
       " 0.23513658747501623,\n",
       " 0.23012742972472233,\n",
       " 0.7270876522675829,\n",
       " 0.9085822776562766,\n",
       " 0.9777324575752405,\n",
       " 0.9035121128328676,\n",
       " 0.6108540597328599,\n",
       " 0.35850760719565355,\n",
       " 0.2405403085172301,\n",
       " 0.3166697765660487,\n",
       " 0.2390937724866225,\n",
       " 0.3997256271657479,\n",
       " 0.83333187626202,\n",
       " 0.9464575768720475,\n",
       " 0.9919944351387594,\n",
       " 0.9269273010766884,\n",
       " 0.5704119155046402,\n",
       " 0.2996491881738678,\n",
       " 0.19463167073697904,\n",
       " 0.29650266703726263,\n",
       " 0.24141132069129356,\n",
       " 0.5698282115914146,\n",
       " 0.8185015242615871,\n",
       " 0.9503672366294709,\n",
       " 0.9950825314190213,\n",
       " 0.9159260998454256,\n",
       " 0.5014626731892314,\n",
       " 0.24380595212541292,\n",
       " 0.14653819183837186,\n",
       " 0.2710700725228452,\n",
       " 0.22865307101618398,\n",
       " 0.673397347705941,\n",
       " 0.7870994035275785,\n",
       " 0.9499961127388463,\n",
       " 0.9964206741406563,\n",
       " 0.8990996101997123,\n",
       " 0.44089206338337483,\n",
       " 0.20498098691261776,\n",
       " 0.11462129465383189,\n",
       " 0.24858286964712517,\n",
       " 0.21393519050408483,\n",
       " 0.7389237349609147,\n",
       " 0.7683406458366272,\n",
       " 0.9518625012845602,\n",
       " 0.9973674154631113,\n",
       " 0.8884655965817885,\n",
       " 0.3973904427920404,\n",
       " 0.17870342604382236,\n",
       " 0.09453089132684624,\n",
       " 0.2308707279693885,\n",
       " 0.20208928280942157,\n",
       " 0.786385368992704,\n",
       " 0.7606060014028332,\n",
       " 0.9547323016866415,\n",
       " 0.9980335405133107,\n",
       " 0.8823874658726313,\n",
       " 0.3643567883581374,\n",
       " 0.1592965128599638,\n",
       " 0.08043813866803301,\n",
       " 0.21633777207157684,\n",
       " 0.19205156887330832,\n",
       " 0.8212824459377279,\n",
       " 0.7605830606535364,\n",
       " 0.9579023932413306,\n",
       " 0.9985047953047443,\n",
       " 0.8793946939499236,\n",
       " 0.3381674001736864,\n",
       " 0.14417236626902968,\n",
       " 0.06989152584393447,\n",
       " 0.20406296799896476,\n",
       " 0.18326611346636196,\n",
       " 0.8474470120708854,\n",
       " 0.7649744351571054,\n",
       " 0.9610106159832686,\n",
       " 0.9988419992071654,\n",
       " 0.8783770738818821,\n",
       " 0.3167249508893456,\n",
       " 0.13195595674843233,\n",
       " 0.061660439862887745,\n",
       " 0.19348297169987116,\n",
       " 0.17542815370529533,\n",
       " 0.8674808457665647,\n",
       " 0.7715398200215791,\n",
       " 0.963906322335979,\n",
       " 0.9990872045893757,\n",
       " 0.8786131664161411]"
      ]
     },
     "execution_count": 193,
     "metadata": {},
     "output_type": "execute_result"
    }
   ],
   "source": [
    "# prediction\n",
    "import math\n",
    "\n",
    "prediction = []\n",
    "for i in range(len(bias)):\n",
    "    prediction.append(1/(1+math.exp(-(bias[i]*B0[i]+x1[i]*B1[i]+x2[i]*B2[i]))))\n",
    "#prediction"
   ]
  },
  {
   "cell_type": "markdown",
   "metadata": {},
   "source": [
    "## 14.3.2 Calculate New Coefficients"
   ]
  },
  {
   "cell_type": "code",
   "execution_count": 205,
   "metadata": {},
   "outputs": [],
   "source": [
    "LR = float(df['Logistic Regression with Stochastic Gradient Descent'][15:16])\n",
    "y = list(df['Unnamed: 4'][18:118])\n",
    "y = [int(n) for n in y]\n",
    "\n",
    "B0_t = []\n",
    "for i in range(len(B0)):\n",
    "    B0_t.append(B0[i]+LR*(y[i]-prediction[i])*prediction[i]*(1-prediction[i])*bias[i])\n",
    "#B0_t"
   ]
  },
  {
   "cell_type": "code",
   "execution_count": 209,
   "metadata": {},
   "outputs": [],
   "source": [
    "B1_t = []\n",
    "for i in range(len(B1)):\n",
    "    B1_t.append(B1[i]+LR*(y[i]-prediction[i])*prediction[i]*(1-prediction[i])*x1[i])\n",
    "#B1_t"
   ]
  },
  {
   "cell_type": "code",
   "execution_count": 210,
   "metadata": {},
   "outputs": [
    {
     "data": {
      "text/plain": [
       "[-0.0956451376125,\n",
       " -0.16308640672104574,\n",
       " -0.21197005059216711,\n",
       " -0.25180113736453463,\n",
       " -0.2759646153412964,\n",
       " -0.22969061305403682,\n",
       " -0.1429788500937615,\n",
       " -0.09445399110898525,\n",
       " -0.09477164606764972,\n",
       " -0.08247447174327535,\n",
       " -0.19581227034957033,\n",
       " -0.27437559541711326,\n",
       " -0.3680411648745346,\n",
       " -0.410305183406971,\n",
       " -0.44843232654202936,\n",
       " -0.3355254707096459,\n",
       " -0.30159301957275864,\n",
       " -0.2975586057975477,\n",
       " -0.29759381162717624,\n",
       " -0.28874000383975984,\n",
       " -0.3998467213370267,\n",
       " -0.458273562075495,\n",
       " -0.5162809564363702,\n",
       " -0.5543164072282221,\n",
       " -0.5935337003470503,\n",
       " -0.4743063669199448,\n",
       " -0.45980178614930634,\n",
       " -0.4583601599375026,\n",
       " -0.4583647769270105,\n",
       " -0.45315515149095076,\n",
       " -0.560105520230392,\n",
       " -0.6046676562083865,\n",
       " -0.6449416286747933,\n",
       " -0.6792708828416961,\n",
       " -0.7191303566540707,\n",
       " -0.6318448721596628,\n",
       " -0.6149502860532488,\n",
       " -0.6137063907867462,\n",
       " -0.6137081384393118,\n",
       " -0.6068936489904518,\n",
       " -0.7028177598772939,\n",
       " -0.7346704421139945,\n",
       " -0.7588633821365541,\n",
       " -0.7885932951250928,\n",
       " -0.8249524499956079,\n",
       " -0.7654924304440833,\n",
       " -0.7431379055520374,\n",
       " -0.7418758320810113,\n",
       " -0.7418767590539695,\n",
       " -0.7322419295231852,\n",
       " -0.8154016651271341,\n",
       " -0.8390733307242436,\n",
       " -0.8544287826165519,\n",
       " -0.8802019736505472,\n",
       " -0.9126383813936453,\n",
       " -0.8709467754589756,\n",
       " -0.8451101616083538,\n",
       " -0.8439382454504641,\n",
       " -0.8439387469721694,\n",
       " -0.8323052884146297,\n",
       " -0.9051207720334654,\n",
       " -0.9237069423539597,\n",
       " -0.9343882403653399,\n",
       " -0.9571434991206829,\n",
       " -0.9865234337995743,\n",
       " -0.9568196579707761,\n",
       " -0.9295067236231858,\n",
       " -0.9284672494247646,\n",
       " -0.92846752926893,\n",
       " -0.9156200757221875,\n",
       " -0.9801884753724852,\n",
       " -0.995305960473454,\n",
       " -1.003160267103846,\n",
       " -1.023518417496931,\n",
       " -1.0503860449597742,\n",
       " -1.0286719768728292,\n",
       " -1.0013546316088426,\n",
       " -1.0004526622284995,\n",
       " -1.000452825110547,\n",
       " -0.9869890388098972,\n",
       " -1.0449004992665574,\n",
       " -1.057506417733111,\n",
       " -1.0635041291678604,\n",
       " -1.0819013323814515,\n",
       " -1.1066330829165973,\n",
       " -1.0903075179802137,\n",
       " -1.0638311000787377,\n",
       " -1.0630548951317969,\n",
       " -1.063054992268971,\n",
       " -1.0493788881129458,\n",
       " -1.1018249640466304,\n",
       " -1.1125358132223244,\n",
       " -1.1172453277991772,\n",
       " -1.1340041597042423,\n",
       " -1.1568831589304878,\n",
       " -1.1442726842522954,\n",
       " -1.119040115949123,\n",
       " -1.118372921390146,\n",
       " -1.1183729814519208,\n",
       " -1.1047462586206451]"
      ]
     },
     "execution_count": 210,
     "metadata": {},
     "output_type": "execute_result"
    }
   ],
   "source": [
    "B2_t = []\n",
    "for i in range(len(B2)):\n",
    "    B2_t.append(B2[i]+LR*(y[i]-prediction[i])*prediction[i]*(1-prediction[i])*x2[i])\n",
    "B2_t"
   ]
  },
  {
   "cell_type": "code",
   "execution_count": 213,
   "metadata": {},
   "outputs": [],
   "source": [
    "# Sharp Prediction\n",
    "sharp_prediction = []\n",
    "for i in prediction:\n",
    "    if i < 0.5:\n",
    "        sharp_prediction.append(0)\n",
    "    else:\n",
    "        sharp_prediction.append(1)\n",
    "#sharp_prediction"
   ]
  },
  {
   "cell_type": "code",
   "execution_count": 216,
   "metadata": {},
   "outputs": [],
   "source": [
    "# Squared Error\n",
    "squared_error = []\n",
    "for i in range(len(prediction)):\n",
    "    squared_error.append((prediction[i]-y[i])**2)\n",
    "#squared_error"
   ]
  },
  {
   "cell_type": "code",
   "execution_count": 218,
   "metadata": {},
   "outputs": [],
   "source": [
    "def split_list(l, n):\n",
    "    for idx in range(0, len(l), n):\n",
    "        yield l[idx:idx + n]"
   ]
  },
  {
   "cell_type": "code",
   "execution_count": 223,
   "metadata": {},
   "outputs": [
    {
     "data": {
      "text/plain": [
       "[0.47083223942568997,\n",
       " 0.4016199246535001,\n",
       " 0.3336695508712325,\n",
       " 0.2875377560455622,\n",
       " 0.24956579355038055,\n",
       " 0.22219219417526545,\n",
       " 0.20291820420527348,\n",
       " 0.18811376825509654,\n",
       " 0.17609058175252942,\n",
       " 0.1659920198492711]"
      ]
     },
     "execution_count": 223,
     "metadata": {},
     "output_type": "execute_result"
    }
   ],
   "source": [
    "split_se = list(split_list(squared_error, 10))\n",
    "\n",
    "RMSE = []\n",
    "\n",
    "for i in split_se:\n",
    "    RMSE.append((statistics.mean(i))**0.5)\n",
    "RMSE"
   ]
  },
  {
   "cell_type": "code",
   "execution_count": 226,
   "metadata": {},
   "outputs": [],
   "source": [
    "# Error\n",
    "error = []\n",
    "for i in range(len(sharp_prediction)):\n",
    "    if sharp_prediction[i] == y[i]:\n",
    "        error.append(0)\n",
    "    else:\n",
    "        error.append(1)\n",
    "#error"
   ]
  },
  {
   "cell_type": "code",
   "execution_count": 232,
   "metadata": {},
   "outputs": [
    {
     "data": {
      "text/plain": [
       "[70.0, 80.0, 80.0, 90.0, 90.0, 100.0, 100.0, 100.0, 100.0, 100.0]"
      ]
     },
     "execution_count": 232,
     "metadata": {},
     "output_type": "execute_result"
    }
   ],
   "source": [
    "# Accuracy\n",
    "accuracy_list = []\n",
    "error_list = list(split_list(error,10))\n",
    "for i in error_list:\n",
    "    accuracy_list.append((1-(sum(i)/len(i)))*100)\n",
    "accuracy_list"
   ]
  },
  {
   "cell_type": "code",
   "execution_count": 235,
   "metadata": {},
   "outputs": [
    {
     "data": {
      "text/plain": [
       "Text(0.5,1,'Accuracy')"
      ]
     },
     "execution_count": 235,
     "metadata": {},
     "output_type": "execute_result"
    },
    {
     "data": {
      "image/png": "[encoded data removed]",
      "text/plain": [
       "<Figure size 432x288 with 1 Axes>"
      ]
     },
     "metadata": {},
     "output_type": "display_data"
    }
   ],
   "source": [
    "fig = plt.figure()\n",
    "\n",
    "ax = fig.add_subplot(1,1,1)\n",
    "x_axis = list(range(1,11))\n",
    "ax.scatter(x_axis,accuracy_list)\n",
    "ax.plot(x_axis,accuracy_list)\n",
    "ax.set_title(\"Accuracy\")"
   ]
  },
  {
   "cell_type": "code",
   "execution_count": 236,
   "metadata": {},
   "outputs": [
    {
     "data": {
      "text/plain": [
       "Text(0.5,1,'RMSE')"
      ]
     },
     "execution_count": 236,
     "metadata": {},
     "output_type": "execute_result"
    },
    {
     "data": {
      "image/png": "[encoded data removed]",
      "text/plain": [
       "<Figure size 432x288 with 1 Axes>"
      ]
     },
     "metadata": {},
     "output_type": "display_data"
    }
   ],
   "source": [
    "fig = plt.figure()\n",
    "\n",
    "ax = fig.add_subplot(1,1,1)\n",
    "x_axis = list(range(1,11))\n",
    "ax.scatter(x_axis,RMSE)\n",
    "ax.plot(x_axis,RMSE)\n",
    "ax.set_title(\"RMSE\")"
   ]
  },
  {
   "cell_type": "markdown",
   "metadata": {},
   "source": [
    "## 14.3.4 Make Predictions"
   ]
  },
  {
   "cell_type": "code",
   "execution_count": 245,
   "metadata": {},
   "outputs": [
    {
     "data": {
      "text/plain": [
       "-0.40660546387038243"
      ]
     },
     "execution_count": 245,
     "metadata": {},
     "output_type": "execute_result"
    }
   ],
   "source": [
    "# import data\n",
    "x1 = list(df['Logistic Regression with Stochastic Gradient Descent'][125:135])\n",
    "x1 = [float(i) for i in x1]\n",
    "\n",
    "x2 = list(df['Unnamed: 1'][125:135])\n",
    "x2 = [float(i) for i in x2]"
   ]
  },
  {
   "cell_type": "code",
   "execution_count": 247,
   "metadata": {},
   "outputs": [
    {
     "data": {
      "text/plain": [
       "[0.29875698580885823,\n",
       " 0.14595105606252287,\n",
       " 0.08533326534406838,\n",
       " 0.21973731439624578,\n",
       " 0.24705900033905465,\n",
       " 0.9547021348047449,\n",
       " 0.8620341906530566,\n",
       " 0.9717729050686137,\n",
       " 0.999295452088035,\n",
       " 0.9054893229517141]"
      ]
     },
     "execution_count": 247,
     "metadata": {},
     "output_type": "execute_result"
    }
   ],
   "source": [
    "# Prediction\n",
    "\n",
    "prediction = []\n",
    "for i in range(len(x1)):\n",
    "    prediction.append(1/(1+math.exp(-(B0_t[len(B0_t)-1]+B1_t[len(B1_t)-1]*x1[i]+x2[i]*B2_t[len(B2_t)-1]))))\n",
    "prediction"
   ]
  },
  {
   "cell_type": "code",
   "execution_count": 248,
   "metadata": {},
   "outputs": [
    {
     "data": {
      "text/plain": [
       "[0, 0, 0, 0, 0, 1, 1, 1, 1, 1]"
      ]
     },
     "execution_count": 248,
     "metadata": {},
     "output_type": "execute_result"
    }
   ],
   "source": [
    "# Crisp\n",
    "\n",
    "crisp = []\n",
    "for i in prediction:\n",
    "    if i < 0.5:\n",
    "        crisp.append(0)\n",
    "    else:\n",
    "        crisp.append(1)\n",
    "crisp"
   ]
  },
  {
   "cell_type": "code",
   "execution_count": 257,
   "metadata": {},
   "outputs": [
    {
     "data": {
      "text/plain": [
       "[0, 0, 0, 0, 0, 0, 0, 0, 0, 0]"
      ]
     },
     "execution_count": 257,
     "metadata": {},
     "output_type": "execute_result"
    }
   ],
   "source": [
    "y = list(df['Unnamed: 4'][125:135])\n",
    "y = [int(n) for n in y]\n",
    "\n",
    "# Error\n",
    "\n",
    "error = []\n",
    "for i in range(len(crisp)):\n",
    "    if crisp[i] == y[i]:\n",
    "        error.append(0)\n",
    "    else:\n",
    "        error.append(1)\n",
    "error"
   ]
  },
  {
   "cell_type": "code",
   "execution_count": 260,
   "metadata": {},
   "outputs": [
    {
     "data": {
      "text/plain": [
       "100.0"
      ]
     },
     "execution_count": 260,
     "metadata": {},
     "output_type": "execute_result"
    }
   ],
   "source": [
    "# Accuracy\n",
    "\n",
    "accuracy = (1-(sum(error)/len(error)))*100\n",
    "accuracy"
   ]
  },
  {
   "cell_type": "markdown",
   "metadata": {},
   "source": [
    "## Chapter 16"
   ]
  },
  {
   "cell_type": "markdown",
   "metadata": {},
   "source": [
    "### 16.2 Tutorial Dataset"
   ]
  },
  {
   "cell_type": "code",
   "execution_count": 261,
   "metadata": {},
   "outputs": [],
   "source": [
    "df = pd.read_csv('../data/csv/06-LinearDiscriminantAnalysis.csv')"
   ]
  },
  {
   "cell_type": "code",
   "execution_count": 273,
   "metadata": {},
   "outputs": [],
   "source": [
    "# import data\n",
    "x0 = df['Linear Discriminant Analysis'][3:23]\n",
    "x0 = [float(i) for i in x0]\n",
    "\n",
    "x1 = df['Linear Discriminant Analysis'][23:43]\n",
    "x1 = [float(i) for i in x1]"
   ]
  },
  {
   "cell_type": "code",
   "execution_count": 275,
   "metadata": {},
   "outputs": [
    {
     "data": {
      "text/plain": [
       "<matplotlib.collections.PathCollection at 0x1264446d8>"
      ]
     },
     "execution_count": 275,
     "metadata": {},
     "output_type": "execute_result"
    },
    {
     "data": {
      "image/png": "[encoded data removed]",
      "text/plain": [
       "<Figure size 432x288 with 1 Axes>"
      ]
     },
     "metadata": {},
     "output_type": "display_data"
    }
   ],
   "source": [
    "fig = plt.figure()\n",
    "\n",
    "ax = fig.add_subplot(1,1,1)\n",
    "x_axis = list(range(1,21))\n",
    "ax.scatter(x_axis,x0)\n",
    "ax.scatter(x_axis,x1)"
   ]
  },
  {
   "cell_type": "code",
   "execution_count": 279,
   "metadata": {},
   "outputs": [
    {
     "name": "stdout",
     "output_type": "stream",
     "text": [
      "4.975415507 20.087062921\n"
     ]
    }
   ],
   "source": [
    "mean_x0 = statistics.mean(x0)\n",
    "mean_x1 = statistics.mean(x1)\n",
    "\n",
    "print(mean_x0,mean_x1)"
   ]
  },
  {
   "cell_type": "code",
   "execution_count": 281,
   "metadata": {},
   "outputs": [
    {
     "name": "stdout",
     "output_type": "stream",
     "text": [
      "0.5 0.5\n"
     ]
    }
   ],
   "source": [
    "# Probability\n",
    "p0 = len(x0)/(len(x0)+len(x1))\n",
    "p1 = len(x1)/(len(x0)+len(x1))\n",
    "print(p0,p1)"
   ]
  },
  {
   "cell_type": "code",
   "execution_count": 287,
   "metadata": {},
   "outputs": [
    {
     "name": "stdout",
     "output_type": "stream",
     "text": [
      "10.158230131719309 21.493167084411787\n"
     ]
    }
   ],
   "source": [
    "# SquaredDifference\n",
    "squared_difference0 = []\n",
    "for i in x0:\n",
    "    squared_difference0.append((i-mean_x0)**2)\n",
    "\n",
    "squared_difference1 = []\n",
    "for i in x1:\n",
    "    squared_difference1.append((i-mean_x1)**2)\n",
    "print(sum(squared_difference0),sum(squared_difference1))"
   ]
  },
  {
   "cell_type": "code",
   "execution_count": 297,
   "metadata": {},
   "outputs": [
    {
     "data": {
      "text/plain": [
       "0.8329315056876604"
      ]
     },
     "execution_count": 297,
     "metadata": {},
     "output_type": "execute_result"
    }
   ],
   "source": [
    "# variance\n",
    "variance = (1/(len(x0)+len(x1)-2))*(sum(squared_difference0)+sum(squared_difference1))\n",
    "variance"
   ]
  },
  {
   "cell_type": "markdown",
   "metadata": {},
   "source": [
    "## 16.4 Making Predictions"
   ]
  },
  {
   "cell_type": "code",
   "execution_count": 304,
   "metadata": {},
   "outputs": [],
   "source": [
    "# import data\n",
    "x = list(df['Linear Discriminant Analysis'][98:140])\n",
    "x = [float(i) for i in x]"
   ]
  },
  {
   "cell_type": "code",
   "execution_count": 385,
   "metadata": {},
   "outputs": [],
   "source": [
    "discriminant0 = []\n",
    "discriminant1 = []\n",
    "\n",
    "for i in x:\n",
    "    discriminant0.append(i*(mean_x0/variance)-(mean_x0**2/(2*variance))+math.log(p0))\n",
    "    discriminant1.append(i*(mean_x1/variance)-(mean_x1**2/(2*variance))+math.log(p1))\n",
    "#discriminant1"
   ]
  },
  {
   "cell_type": "code",
   "execution_count": 383,
   "metadata": {},
   "outputs": [],
   "source": [
    "# prediction\n",
    "prediction = []\n",
    "for i in range(len(discriminant1)):\n",
    "    if discriminant0[i] > discriminant1[i]:\n",
    "        prediction.append(0)\n",
    "    else:\n",
    "        prediction.append(1)\n",
    "#prediction"
   ]
  },
  {
   "cell_type": "code",
   "execution_count": 387,
   "metadata": {},
   "outputs": [],
   "source": [
    "y = list(df['Unnamed: 4'][98:140])\n",
    "y = [int(i) for i in y]"
   ]
  },
  {
   "cell_type": "code",
   "execution_count": 390,
   "metadata": {},
   "outputs": [],
   "source": [
    "# Error\n",
    "error = []\n",
    "for i in range(len(y)):\n",
    "    if prediction[i] == y[i]:\n",
    "        error.append(0)\n",
    "    else:\n",
    "        error.append(1)\n",
    "#error"
   ]
  },
  {
   "cell_type": "code",
   "execution_count": 392,
   "metadata": {},
   "outputs": [
    {
     "data": {
      "text/plain": [
       "100.0"
      ]
     },
     "execution_count": 392,
     "metadata": {},
     "output_type": "execute_result"
    }
   ],
   "source": [
    "# Accuracy\n",
    "accuracy = (1-(sum(error)/len(error)))*100\n",
    "accuracy"
   ]
  },
  {
   "cell_type": "code",
   "execution_count": null,
   "metadata": {},
   "outputs": [],
   "source": []
  }
 ],
 "metadata": {
  "kernelspec": {
   "display_name": "Python 3",
   "language": "python",
   "name": "python3"
  },
  "language_info": {
   "codemirror_mode": {
    "name": "ipython",
    "version": 3
   },
   "file_extension": ".py",
   "mimetype": "text/x-python",
   "name": "python",
   "nbconvert_exporter": "python",
   "pygments_lexer": "ipython3",
   "version": "3.6.4"
  }
 },
 "nbformat": 4,
 "nbformat_minor": 2
}
