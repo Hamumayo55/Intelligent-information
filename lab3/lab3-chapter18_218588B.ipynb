{
 "cells": [
  {
   "cell_type": "code",
   "execution_count": 108,
   "metadata": {},
   "outputs": [],
   "source": [
    "import pandas as pd\n",
    "import numpy as np\n",
    "import matplotlib.pyplot as plt"
   ]
  },
  {
   "cell_type": "code",
   "execution_count": 109,
   "metadata": {},
   "outputs": [],
   "source": [
    "#import dataset \n",
    "df = pd.read_csv('.././data/csv/08-ClassificationAndRegressionTrees.csv')"
   ]
  },
  {
   "cell_type": "markdown",
   "metadata": {},
   "source": [
    "## 18.1 Tutorial Dataset"
   ]
  },
  {
   "cell_type": "code",
   "execution_count": 110,
   "metadata": {},
   "outputs": [],
   "source": [
    "x1 = list(df['Classification And Regression Trees'][2:12])\n",
    "x1 = [float(s) for s in x1]\n",
    "x2 = list(df['Unnamed: 1'][2:12])\n",
    "x2 = [float(s) for s in x2]"
   ]
  },
  {
   "cell_type": "code",
   "execution_count": 111,
   "metadata": {},
   "outputs": [
    {
     "data": {
      "text/plain": [
       "Text(0,0.5,'x2')"
      ]
     },
     "execution_count": 111,
     "metadata": {},
     "output_type": "execute_result"
    },
    {
     "data": {
      "image/png": "[encoded data removed]",
      "text/plain": [
       "<Figure size 432x288 with 1 Axes>"
      ]
     },
     "metadata": {},
     "output_type": "display_data"
    }
   ],
   "source": [
    "fig = plt.figure()\n",
    "\n",
    "plt.scatter(x1[:len(x1)//2],x2[:len(x2)//2])\n",
    "plt.scatter(x1[len(x1)//2:],x2[len(x2)//2:])\n",
    "plt.xlabel(\"x1\")\n",
    "plt.ylabel(\"x2\")"
   ]
  },
  {
   "cell_type": "markdown",
   "metadata": {},
   "source": [
    "## 18.2.2 First Candidate Split Point"
   ]
  },
  {
   "cell_type": "code",
   "execution_count": 112,
   "metadata": {},
   "outputs": [],
   "source": [
    "x1 = list(df['Classification And Regression Trees'][19:29])\n",
    "x1 = [float(s) for s in x1]\n",
    "\n",
    "split = x1[0]\n",
    "group = []\n",
    "\n",
    "for i in x1:\n",
    "    if i < split:\n",
    "        group.append('LEFT')\n",
    "    else:\n",
    "        group.append('RIGHT')"
   ]
  },
  {
   "cell_type": "code",
   "execution_count": 113,
   "metadata": {},
   "outputs": [
    {
     "name": "stdout",
     "output_type": "stream",
     "text": [
      "y0_left：1.0 y1_right：0.0 y0_weght：0.1\n",
      "-------------------------------\n",
      "y0_right：0.4444444444444444 y1_right：0.5555555555555556 y1_weght：0.9\n"
     ]
    }
   ],
   "source": [
    "# class count\n",
    "y0_left_cnt = 1\n",
    "y0_right_cnt = 4\n",
    "y1_left_cnt = 0\n",
    "y1_right_cnt = 5\n",
    "\n",
    "# Gini Index\n",
    "y0_left = y0_left_cnt/(y0_left_cnt+y1_left_cnt)\n",
    "y1_left = y1_left_cnt/(y0_left_cnt+y1_left_cnt)\n",
    "weight_left = (y0_left_cnt + y1_left_cnt) / (y0_left_cnt + y1_left_cnt + y0_right_cnt + y1_right_cnt)\n",
    "print(\"y0_left：\"+str(y0_left),\"y1_right：\"+str(y1_left),\"y0_weght：\"+str(weight_left))\n",
    "\n",
    "print(\"-------------------------------\")\n",
    "\n",
    "y0_right = y0_right_cnt/(y0_right_cnt+y1_right_cnt)\n",
    "y1_right = y1_right_cnt/(y0_right_cnt+y1_right_cnt)\n",
    "weight_right = (y0_right_cnt + y1_right_cnt) / (y0_left_cnt + y1_left_cnt + y0_right_cnt + y1_right_cnt)\n",
    "print(\"y0_right：\"+str(y0_right),\"y1_right：\"+str(y1_right),\"y1_weght：\"+str(weight_right))"
   ]
  },
  {
   "cell_type": "code",
   "execution_count": 114,
   "metadata": {},
   "outputs": [
    {
     "name": "stdout",
     "output_type": "stream",
     "text": [
      "0.0\n",
      "0.4444444444444444\n",
      "0.4444444444444444\n"
     ]
    }
   ],
   "source": [
    "gini_left = (1-(y0_left**2 + y1_left**2))*weight_left\n",
    "print(gini_left)\n",
    "\n",
    "gini_right = (1-(y0_right**2 + y1_right**2))*weight_right\n",
    "print(gini_right)\n",
    "gini = gini_left + gini_right\n",
    "print(gini)"
   ]
  },
  {
   "cell_type": "markdown",
   "metadata": {},
   "source": [
    "## 18.2.3 Best Candidate Split Point"
   ]
  },
  {
   "cell_type": "code",
   "execution_count": 115,
   "metadata": {},
   "outputs": [],
   "source": [
    "x1 = list(df['Classification And Regression Trees'][19:29])\n",
    "x1 = [float(s) for s in x1]\n",
    "\n",
    "split = x1[-1]\n",
    "group = []\n",
    "\n",
    "for i in x1:\n",
    "    if i < split:\n",
    "        group.append('LEFT')\n",
    "    else:\n",
    "        group.append('RIGHT')"
   ]
  },
  {
   "cell_type": "code",
   "execution_count": 116,
   "metadata": {},
   "outputs": [
    {
     "name": "stdout",
     "output_type": "stream",
     "text": [
      "y0_left：1.0 y1_right：0.0 y0_weght：0.5\n",
      "-------------------------------\n",
      "y0_right：0.0 y1_right：1.0 y1_weght：0.5\n"
     ]
    }
   ],
   "source": [
    "# class count\n",
    "y0_left_cnt = 5\n",
    "y0_right_cnt = 0\n",
    "y1_left_cnt = 0\n",
    "y1_right_cnt = 5\n",
    "\n",
    "# Gini Index\n",
    "y0_left = y0_left_cnt/(y0_left_cnt+y1_left_cnt)\n",
    "y1_left = y1_left_cnt/(y0_left_cnt+y1_left_cnt)\n",
    "weight_left = (y0_left_cnt + y1_left_cnt) / (y0_left_cnt + y1_left_cnt + y0_right_cnt + y1_right_cnt)\n",
    "print(\"y0_left：\"+str(y0_left),\"y1_right：\"+str(y1_left),\"y0_weght：\"+str(weight_left))\n",
    "\n",
    "print(\"-------------------------------\")\n",
    "\n",
    "y0_right = y0_right_cnt/(y0_right_cnt+y1_right_cnt)\n",
    "y1_right = y1_right_cnt/(y0_right_cnt+y1_right_cnt)\n",
    "weight_right = (y0_right_cnt + y1_right_cnt) / (y0_left_cnt + y1_left_cnt + y0_right_cnt + y1_right_cnt)\n",
    "print(\"y0_right：\"+str(y0_right),\"y1_right：\"+str(y1_right),\"y1_weght：\"+str(weight_right))"
   ]
  },
  {
   "cell_type": "code",
   "execution_count": 117,
   "metadata": {},
   "outputs": [
    {
     "name": "stdout",
     "output_type": "stream",
     "text": [
      "0.0\n",
      "0.0\n",
      "0.0\n"
     ]
    }
   ],
   "source": [
    "gini_left = (1-(y0_left**2 + y1_left**2))*weight_left\n",
    "print(gini_left)\n",
    "\n",
    "gini_right = (1-(y0_right**2 + y1_right**2))*weight_right\n",
    "print(gini_right)\n",
    "\n",
    "gini = gini_left + gini_right\n",
    "print(gini)"
   ]
  },
  {
   "cell_type": "markdown",
   "metadata": {},
   "source": [
    "## 18.3 Making Predictions on Data"
   ]
  },
  {
   "cell_type": "code",
   "execution_count": 118,
   "metadata": {},
   "outputs": [
    {
     "data": {
      "text/plain": [
       "[0, 0, 0, 0, 0, 1, 1, 1, 0, 1]"
      ]
     },
     "execution_count": 118,
     "metadata": {},
     "output_type": "execute_result"
    }
   ],
   "source": [
    "x1 = list(df['Classification And Regression Trees'][73:83])\n",
    "x1 = [float(s) for s in x1]\n",
    "x2 = list(df['Unnamed: 1'][73:83])\n",
    "x2 = [float(s) for s in x2]\n",
    "\n",
    "y = list(df['Unnamed: 2'][73:83])\n",
    "y = [float(s) for s in y]\n",
    "\n",
    "prediction = []\n",
    "for i in x1:\n",
    "    if i < split:\n",
    "        prediction.append(0)\n",
    "    else:\n",
    "        prediction.append(1)\n",
    "prediction"
   ]
  },
  {
   "cell_type": "code",
   "execution_count": 119,
   "metadata": {},
   "outputs": [
    {
     "name": "stdout",
     "output_type": "stream",
     "text": [
      "Accuracy：90.0\n"
     ]
    }
   ],
   "source": [
    "acc_cnt = 0\n",
    "for i in range(len(y)):\n",
    "    if prediction[i] == y[i]:\n",
    "        acc_cnt += 1\n",
    "print(\"Accuracy：\"+str((acc_cnt/len(y))*100))"
   ]
  },
  {
   "cell_type": "code",
   "execution_count": null,
   "metadata": {},
   "outputs": [],
   "source": []
  }
 ],
 "metadata": {
  "kernelspec": {
   "display_name": "Python 3",
   "language": "python",
   "name": "python3"
  },
  "language_info": {
   "codemirror_mode": {
    "name": "ipython",
    "version": 3
   },
   "file_extension": ".py",
   "mimetype": "text/x-python",
   "name": "python",
   "nbconvert_exporter": "python",
   "pygments_lexer": "ipython3",
   "version": "3.6.4"
  }
 },
 "nbformat": 4,
 "nbformat_minor": 2
}
