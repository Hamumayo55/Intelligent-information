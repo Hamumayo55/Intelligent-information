{
 "cells": [
  {
   "cell_type": "code",
   "execution_count": 1,
   "metadata": {},
   "outputs": [],
   "source": [
    "import pandas as pd\n",
    "import numpy as np\n",
    "import matplotlib.pyplot as plt"
   ]
  },
  {
   "cell_type": "markdown",
   "metadata": {},
   "source": [
    "## Chapter21"
   ]
  },
  {
   "cell_type": "markdown",
   "metadata": {},
   "source": [
    "## 21.1 Tutorial Dataset"
   ]
  },
  {
   "cell_type": "code",
   "execution_count": null,
   "metadata": {},
   "outputs": [],
   "source": [
    "#import dataset \n",
    "df = pd.read_csv('.././data/csv/11-GaussianNaiveBayes.csv')"
   ]
  },
  {
   "cell_type": "code",
   "execution_count": 28,
   "metadata": {},
   "outputs": [],
   "source": [
    "x1 = list(df['Gaussian Naïve Bayes'][3:13])\n",
    "x1 = [float(s) for s in x1]\n",
    "\n",
    "x2 = list(df['Unnamed: 1'][3:13])\n",
    "x2 = [float(s) for s in x2]"
   ]
  },
  {
   "cell_type": "code",
   "execution_count": 11,
   "metadata": {},
   "outputs": [
    {
     "data": {
      "text/plain": [
       "Text(0,0.5,'x2')"
      ]
     },
     "execution_count": 11,
     "metadata": {},
     "output_type": "execute_result"
    },
    {
     "data": {
      "image/png": "[encoded data removed]",
      "text/plain": [
       "<Figure size 432x288 with 1 Axes>"
      ]
     },
     "metadata": {},
     "output_type": "display_data"
    }
   ],
   "source": [
    "fig = plt.figure()\n",
    "\n",
    "plt.scatter(x1[:len(x1)//2],x2[:len(x2)//2])\n",
    "plt.scatter(x1[len(x1)//2:],x2[len(x2)//2:])\n",
    "plt.xlabel(\"x1\")\n",
    "plt.ylabel(\"x2\")"
   ]
  },
  {
   "cell_type": "markdown",
   "metadata": {},
   "source": [
    "## 21.3.1 Class Probabilities"
   ]
  },
  {
   "cell_type": "code",
   "execution_count": 15,
   "metadata": {},
   "outputs": [],
   "source": [
    "def count_specified_value(target_value, _list):\n",
    "    cnt = 0\n",
    "    for i in _list:\n",
    "        if i == target_value:\n",
    "            cnt += 1\n",
    "    return cnt"
   ]
  },
  {
   "cell_type": "code",
   "execution_count": 22,
   "metadata": {},
   "outputs": [
    {
     "name": "stdout",
     "output_type": "stream",
     "text": [
      "P0：0.5\n",
      "---------\n",
      "P1：0.5\n"
     ]
    }
   ],
   "source": [
    "y = df['Unnamed: 2'][3:13]\n",
    "y = [float(s) for s in y]\n",
    "\n",
    "y0 = count_specified_value(0,y)\n",
    "y1 = count_specified_value(1,y)\n",
    "\n",
    "p0 = y0/(y0+y1)\n",
    "print('P0：'+str(p0))\n",
    "print('---------')\n",
    "p1 = y1/(y0+y1)\n",
    "print('P1：'+str(p1))"
   ]
  },
  {
   "cell_type": "markdown",
   "metadata": {},
   "source": [
    "## 21.3.2 Conditional Probabilities"
   ]
  },
  {
   "cell_type": "code",
   "execution_count": 41,
   "metadata": {},
   "outputs": [
    {
     "name": "stdout",
     "output_type": "stream",
     "text": [
      "x1_y0_mean：2.7420144012\n",
      "x1_y1_mean：7.6146523718\n",
      "x2_y0_mean：3.0054686692\n",
      "x2_y1_mean：2.9914679790000003\n"
     ]
    }
   ],
   "source": [
    "import statistics\n",
    "x1_y0_mean = statistics.mean(x1[:len(x1)//2])\n",
    "print(\"x1_y0_mean：\"+str(x1_y0_mean))\n",
    "x1_y1_mean = statistics.mean(x1[len(x1)//2:])\n",
    "print(\"x1_y1_mean：\"+str(x1_y1_mean))\n",
    "\n",
    "x2_y0_mean = statistics.mean(x2[:len(x2)//2])\n",
    "print(\"x2_y0_mean：\"+str(x2_y0_mean))\n",
    "x2_y1_mean = statistics.mean(x2[len(x2)//2:])\n",
    "print(\"x2_y1_mean：\"+str(x2_y1_mean))"
   ]
  },
  {
   "cell_type": "code",
   "execution_count": 43,
   "metadata": {},
   "outputs": [
    {
     "name": "stdout",
     "output_type": "stream",
     "text": [
      "x1_y0_stdev：0.9265683289298018\n",
      "x1_y1_stdev：1.2344321550313704\n",
      "x2_y0_stdev：1.1073295894898725\n",
      "x2_y1_stdev：1.4541931384601618\n"
     ]
    }
   ],
   "source": [
    "x1_y0_stdev = statistics.stdev(x1[:len(x1)//2])\n",
    "print(\"x1_y0_stdev：\"+str(x1_y0_stdev))\n",
    "x1_y1_stdev = statistics.stdev(x1[len(x1)//2:])\n",
    "print(\"x1_y1_stdev：\"+str(x1_y1_stdev))\n",
    "\n",
    "x2_y0_stdev = statistics.stdev(x2[:len(x2)//2])\n",
    "print(\"x2_y0_stdev：\"+str(x2_y0_stdev))\n",
    "x2_y1_stdev = statistics.stdev(x2[len(x2)//2:])\n",
    "print(\"x2_y1_stdev：\"+str(x2_y1_stdev))"
   ]
  },
  {
   "cell_type": "markdown",
   "metadata": {},
   "source": [
    "## 21.4 Make Prediction with Gaussian Naive Bayes"
   ]
  },
  {
   "cell_type": "code",
   "execution_count": 51,
   "metadata": {},
   "outputs": [],
   "source": [
    "import math\n",
    "def pdf(value,mean,std):\n",
    "    return 1/(std*(2*math.pi)**0.5)*math.e**-((value-mean)**2/(2*std**2))"
   ]
  },
  {
   "cell_type": "code",
   "execution_count": 60,
   "metadata": {},
   "outputs": [
    {
     "name": "stdout",
     "output_type": "stream",
     "text": [
      "--------P(pdf(x1)|Y=0)--------\n",
      "0.3362559189806222\n",
      "0.39789537964422417\n",
      "0.1378989256527223\n",
      "0.28539525215390316\n",
      "0.38030115759804806\n",
      "1.2328271766438062e-06\n",
      "0.002254526671779386\n",
      "1.5003336416741338e-11\n",
      "1.5196175162923096e-07\n",
      "6.318136633411705e-08\n",
      "--------P(pdf(x2)|Y=0)--------\n",
      "0.29932128413549713\n",
      "0.19559060386412516\n",
      "0.3414378694988815\n",
      "0.11495884192721373\n",
      "0.35746801170840853\n",
      "0.11225550899085125\n",
      "0.32148821825264823\n",
      "0.32610077857613606\n",
      "0.3354277026970906\n",
      "0.04883074555526275\n",
      "--------Output Y=0--------\n",
      "0.05032427673372076\n",
      "0.03891229878967957\n",
      "0.02354195769052508\n",
      "0.016404353839568928\n",
      "0.06797274932849018\n",
      "6.919582110595227e-08\n",
      "0.00036240188135671394\n",
      "2.4462998433695227e-12\n",
      "2.5486090623409403e-08\n",
      "1.5425966116475567e-09\n"
     ]
    }
   ],
   "source": [
    "x1 = list(df['Gaussian Naïve Bayes'][25:35])\n",
    "x1 = [float(s) for s in x1]\n",
    "\n",
    "print(\"--------P(pdf(x1)|Y=0)--------\")\n",
    "pdf_x1_y0 = []\n",
    "for i in x1:\n",
    "    ans = pdf(i,x1_y0_mean,x1_y0_stdev)\n",
    "    pdf_x1_y0.append(ans)\n",
    "    print(ans)\n",
    "    \n",
    "x2 = list(df['Unnamed: 1'][25:35])\n",
    "x2 = [float(s) for s in x2]\n",
    "\n",
    "print(\"--------P(pdf(x2)|Y=0)--------\")\n",
    "pdf_x2_y0 = []\n",
    "for i in x2:\n",
    "    ans = pdf(i,x2_y0_mean,x2_y0_stdev)\n",
    "    pdf_x2_y0.append(ans)\n",
    "    print(ans)\n",
    "    \n",
    "print(\"--------Output Y=0--------\")\n",
    "output_y0 = []\n",
    "for i in range(len(pdf_x2_y0)):\n",
    "    ans = pdf_x1_y0[i]*pdf_x2_y0[i]*p0\n",
    "    output_y0.append(ans)\n",
    "    print(ans)"
   ]
  },
  {
   "cell_type": "code",
   "execution_count": 62,
   "metadata": {},
   "outputs": [
    {
     "name": "stdout",
     "output_type": "stream",
     "text": [
      "--------P(pdf(x1)|Y=1)--------\n",
      "0.0009340506299685852\n",
      "0.00041486723880612524\n",
      "8.049754130439041e-07\n",
      "0.0015573221630848745\n",
      "2.848450435660791e-05\n",
      "0.3193246934374877\n",
      "0.10264594879667971\n",
      "0.14579890306715512\n",
      "0.3198314479712074\n",
      "0.31215873901519764\n",
      "--------P(pdf(x2)|Y=1)--------\n",
      "0.2474752012176147\n",
      "0.19407231695876162\n",
      "0.2652782467174633\n",
      "0.13989465220040678\n",
      "0.2733360347029761\n",
      "0.1379617648530351\n",
      "0.2558965839320992\n",
      "0.2597723928760463\n",
      "0.2624636835757837\n",
      "0.08737062963391638\n",
      "--------Output Y=0--------\n",
      "0.0001155771837994577\n",
      "4.025712313269429e-05\n",
      "1.0677123311147636e-07\n",
      "0.00010893052118437184\n",
      "3.892920735657427e-06\n",
      "0.0220272991338951\n",
      "0.013133373825769753\n",
      "0.018937264964228807\n",
      "0.04197206997894985\n",
      "0.0136367527867436\n"
     ]
    }
   ],
   "source": [
    "print(\"--------P(pdf(x1)|Y=1)--------\")\n",
    "pdf_x1_y1 = []\n",
    "for i in x1:\n",
    "    ans = pdf(i,x1_y1_mean,x1_y1_stdev)\n",
    "    pdf_x1_y1.append(ans)\n",
    "    print(ans)\n",
    "    \n",
    "print(\"--------P(pdf(x2)|Y=1)--------\")\n",
    "pdf_x2_y1 = []\n",
    "for i in x2:\n",
    "    ans = pdf(i,x2_y1_mean,x2_y1_stdev)\n",
    "    pdf_x2_y1.append(ans)\n",
    "    print(ans)\n",
    "    \n",
    "print(\"--------Output Y=0--------\")\n",
    "output_y1 = []\n",
    "for i in range(len(pdf_x2_y1)):\n",
    "    ans = pdf_x1_y1[i]*pdf_x2_y1[i]*p1\n",
    "    output_y1.append(ans)\n",
    "    print(ans)"
   ]
  },
  {
   "cell_type": "markdown",
   "metadata": {},
   "source": [
    "## Final Prediction"
   ]
  },
  {
   "cell_type": "code",
   "execution_count": 66,
   "metadata": {},
   "outputs": [
    {
     "name": "stdout",
     "output_type": "stream",
     "text": [
      "0\n",
      "0\n",
      "0\n",
      "0\n",
      "0\n",
      "1\n",
      "1\n",
      "1\n",
      "1\n",
      "1\n",
      "-----------------------\n",
      "Accuracy：100.0\n"
     ]
    }
   ],
   "source": [
    "prediction = []\n",
    "acc_cnt = 0\n",
    "\n",
    "for i in range(len(output_y0)):\n",
    "    if output_y0[i] > output_y1[i]:\n",
    "        print(0)\n",
    "        prediction.append(0)\n",
    "        if y[i] == 0:\n",
    "            acc_cnt += 1\n",
    "    else:\n",
    "        print(1)\n",
    "        prediction.append(1)\n",
    "        if y[i] == 1:\n",
    "            acc_cnt += 1\n",
    "print('-----------------------')\n",
    "print('Accuracy：'+str(acc_cnt/len(prediction)*100))"
   ]
  },
  {
   "cell_type": "markdown",
   "metadata": {},
   "source": [
    "## Chapter 23"
   ]
  },
  {
   "cell_type": "code",
   "execution_count": 69,
   "metadata": {},
   "outputs": [],
   "source": [
    "#import dataset \n",
    "df = pd.read_csv('.././data/csv/12-KNearestNeighbors.csv')"
   ]
  },
  {
   "cell_type": "markdown",
   "metadata": {},
   "source": [
    "## 23.1 Tutorial Dataset"
   ]
  },
  {
   "cell_type": "code",
   "execution_count": 71,
   "metadata": {},
   "outputs": [
    {
     "data": {
      "text/plain": [
       "[2.331273381,\n",
       " 1.781539638,\n",
       " 3.368360954,\n",
       " 4.67917911,\n",
       " 2.866990263,\n",
       " 4.696522875,\n",
       " 3.533989803,\n",
       " 2.511101045,\n",
       " 3.424088941,\n",
       " 0.791637231]"
      ]
     },
     "execution_count": 71,
     "metadata": {},
     "output_type": "execute_result"
    }
   ],
   "source": [
    "x1 = list(df['K-Nearest Neighbors'][3:13])\n",
    "x1 = [float(s) for s in x1]\n",
    "\n",
    "x2 = list(df['Unnamed: 1'][3:13])\n",
    "x2 = [float(s) for s in x2]"
   ]
  },
  {
   "cell_type": "code",
   "execution_count": 72,
   "metadata": {},
   "outputs": [
    {
     "data": {
      "text/plain": [
       "Text(0,0.5,'x2')"
      ]
     },
     "execution_count": 72,
     "metadata": {},
     "output_type": "execute_result"
    },
    {
     "data": {
      "image/png": "[encoded data removed]",
      "text/plain": [
       "<Figure size 432x288 with 1 Axes>"
      ]
     },
     "metadata": {},
     "output_type": "display_data"
    }
   ],
   "source": [
    "fig = plt.figure()\n",
    "\n",
    "plt.scatter(x1[:len(x1)//2],x2[:len(x2)//2])\n",
    "plt.scatter(x1[len(x1)//2:],x2[len(x2)//2:])\n",
    "plt.xlabel(\"x1\")\n",
    "plt.ylabel(\"x2\")"
   ]
  },
  {
   "cell_type": "markdown",
   "metadata": {},
   "source": [
    "## 23.2 KNN and Euclidean Distance"
   ]
  },
  {
   "cell_type": "code",
   "execution_count": null,
   "metadata": {},
   "outputs": [],
   "source": [
    "x1 = list(df['K-Nearest Neighbors'][19:21])\n",
    "x1 = [float(s) for s in x1]\n",
    "\n",
    "x2 = list(df['Unnamed: 1'][19:21])\n",
    "x2 = [float(s) for s in x2]"
   ]
  },
  {
   "cell_type": "code",
   "execution_count": 80,
   "metadata": {},
   "outputs": [
    {
     "name": "stdout",
     "output_type": "stream",
     "text": [
      "Squared Difference1 = 0.08034941739783397\n",
      "Squared Difference2 = 0.30220718819279\n",
      "SumSquared Difference = 0.382556605590624\n",
      "Distance = 0.6185116050573538\n"
     ]
    }
   ],
   "source": [
    "squared_difference1 = (x1[0] - x1[1])**2\n",
    "print(\"Squared Difference1 = \"+str(squared_difference1))\n",
    "squared_difference2 = (x2[0] - x2[1])**2\n",
    "print(\"Squared Difference2 = \"+str(squared_difference2))\n",
    "print(\"SumSquared Difference = \"+str(squared_difference1+squared_difference2))\n",
    "print(\"Distance = \"+str((squared_difference1+squared_difference2)**0.5))"
   ]
  },
  {
   "cell_type": "markdown",
   "metadata": {},
   "source": [
    "## 23.3 Making Predictions with KNN"
   ]
  },
  {
   "cell_type": "code",
   "execution_count": 82,
   "metadata": {},
   "outputs": [],
   "source": [
    "x_1_1 = 8.093607318\n",
    "x_2_1 = 3.365731514\n",
    "Y = 1"
   ]
  },
  {
   "cell_type": "code",
   "execution_count": 85,
   "metadata": {},
   "outputs": [],
   "source": [
    "x1 = list(df['Unnamed: 1'][29:39])\n",
    "x1 = [float(s) for s in x1]\n",
    "\n",
    "x2 = list(df['Unnamed: 2'][29:39])\n",
    "x2 = [float(s) for s in x2]\n",
    "\n",
    "prediction_y = list(df['Unnamed: 3'][29:39])\n",
    "prediction_y = [float(s) for s in prediction_y]"
   ]
  },
  {
   "cell_type": "code",
   "execution_count": 87,
   "metadata": {},
   "outputs": [],
   "source": [
    "def calculate_squared_difference(_list,instance_x):\n",
    "    squared_difference = []\n",
    "    for i in _list:\n",
    "        squared_difference.append((i-instance_x)**2)\n",
    "    return squared_difference"
   ]
  },
  {
   "cell_type": "code",
   "execution_count": 89,
   "metadata": {},
   "outputs": [
    {
     "data": {
      "text/plain": [
       "[22.090696611291854,\n",
       " 24.83560948458981,\n",
       " 45.55977961510749,\n",
       " 20.35194747421385,\n",
       " 33.793816023219726,\n",
       " 0.44912833286798104,\n",
       " 5.515712095797413,\n",
       " 1.1632944864861783,\n",
       " 0.09049498090740273,\n",
       " 0.02365028788982297]"
      ]
     },
     "execution_count": 89,
     "metadata": {},
     "output_type": "execute_result"
    }
   ],
   "source": [
    "# calculate (X1-X1_1)**2\n",
    "squared_difference1 = calculate_squared_difference(x1,x_1_1)\n",
    "squared_difference1"
   ]
  },
  {
   "cell_type": "code",
   "execution_count": 90,
   "metadata": {},
   "outputs": [
    {
     "data": {
      "text/plain": [
       "[1.0701036289298462,\n",
       " 2.5096638999844,\n",
       " 6.913954713598743e-06,\n",
       " 1.7251445874381781,\n",
       " 0.2487428354490452,\n",
       " 1.7710056465122328,\n",
       " 0.028310851817207428,\n",
       " 0.7303932385431599,\n",
       " 0.003405589286060305,\n",
       " 6.625961377773284]"
      ]
     },
     "execution_count": 90,
     "metadata": {},
     "output_type": "execute_result"
    }
   ],
   "source": [
    "# calculate (X2-X2_1)**2\n",
    "squared_difference2 = calculate_squared_difference(x2,x_2_1)\n",
    "squared_difference2"
   ]
  },
  {
   "cell_type": "code",
   "execution_count": 94,
   "metadata": {},
   "outputs": [
    {
     "data": {
      "text/plain": [
       "[23.1608002402217,\n",
       " 27.34527338457421,\n",
       " 45.5597865290622,\n",
       " 22.077092061652028,\n",
       " 34.04255885866877,\n",
       " 2.220133979380214,\n",
       " 5.5440229476146206,\n",
       " 1.8936877250293382,\n",
       " 0.09390057019346303,\n",
       " 6.649611665663107]"
      ]
     },
     "execution_count": 94,
     "metadata": {},
     "output_type": "execute_result"
    }
   ],
   "source": [
    "sum_squared_difference = []\n",
    "distance = []\n",
    "for i in range(len(squared_difference1)):\n",
    "    sum_squared_difference.append(squared_difference1[i]+squared_difference2[i])\n",
    "    distance.append((squared_difference1[i]+squared_difference2[i])**0.5)\n",
    "sum_squared_difference"
   ]
  },
  {
   "cell_type": "code",
   "execution_count": 95,
   "metadata": {},
   "outputs": [
    {
     "data": {
      "text/plain": [
       "[4.812566907609877,\n",
       " 5.229270827235305,\n",
       " 6.749798999160064,\n",
       " 4.6986266144110695,\n",
       " 5.83460014556857,\n",
       " 1.4900114024329525,\n",
       " 2.354574897431513,\n",
       " 1.3761132675144652,\n",
       " 0.3064319992975,\n",
       " 2.5786840957478887]"
      ]
     },
     "execution_count": 95,
     "metadata": {},
     "output_type": "execute_result"
    }
   ],
   "source": [
    "distance"
   ]
  },
  {
   "cell_type": "code",
   "execution_count": 103,
   "metadata": {},
   "outputs": [
    {
     "name": "stdout",
     "output_type": "stream",
     "text": [
      "Prediction：1.0\n"
     ]
    }
   ],
   "source": [
    "neighbors = [prediction_y[5],prediction_y[7],prediction_y[8]]\n",
    "prediction = statistics.mode(neighbors)\n",
    "print(\"Prediction：\"+str(prediction))"
   ]
  },
  {
   "cell_type": "markdown",
   "metadata": {},
   "source": [
    "## Chapter 25"
   ]
  },
  {
   "cell_type": "code",
   "execution_count": 106,
   "metadata": {},
   "outputs": [],
   "source": [
    "#import dataset \n",
    "df = pd.read_csv('.././data/csv/13-LearningVectorQuantization.csv')"
   ]
  },
  {
   "cell_type": "code",
   "execution_count": 109,
   "metadata": {},
   "outputs": [],
   "source": [
    "x1 = list(df['Learning Vector Quantization'][3:13])\n",
    "x1 = [float(s) for s in x1]\n",
    "\n",
    "x2 = list(df['Unnamed: 1'][3:13])\n",
    "x2 = [float(s) for s in x2]"
   ]
  },
  {
   "cell_type": "code",
   "execution_count": 111,
   "metadata": {},
   "outputs": [
    {
     "data": {
      "text/plain": [
       "Text(0,0.5,'x2')"
      ]
     },
     "execution_count": 111,
     "metadata": {},
     "output_type": "execute_result"
    },
    {
     "data": {
      "image/png": "[encoded data removed]",
      "text/plain": [
       "<Figure size 432x288 with 1 Axes>"
      ]
     },
     "metadata": {},
     "output_type": "display_data"
    }
   ],
   "source": [
    "fig = plt.figure()\n",
    "\n",
    "plt.scatter(x1[:len(x1)//2],x2[:len(x2)//2])\n",
    "plt.scatter(x1[len(x1)//2:],x2[len(x2)//2:])\n",
    "plt.xlabel(\"x1\")\n",
    "plt.ylabel(\"x2\")"
   ]
  },
  {
   "cell_type": "markdown",
   "metadata": {},
   "source": [
    "## 25.2.2 Update Codebook Vectors for One Pattern"
   ]
  },
  {
   "cell_type": "code",
   "execution_count": 113,
   "metadata": {},
   "outputs": [],
   "source": [
    "def calculate_squared_difference(x1,x2):\n",
    "    squared_difference = []\n",
    "    for i in range(len(x1)):\n",
    "        squared_difference.append((x1[i]-x2[i])**2)\n",
    "    return squared_difference"
   ]
  },
  {
   "cell_type": "code",
   "execution_count": 241,
   "metadata": {},
   "outputs": [],
   "source": [
    "codebook_vectors_x1 = list(df['Unnamed: 1'][27:67])\n",
    "codebook_vectors_x1 = [float(s) for s in codebook_vectors_x1]\n",
    "\n",
    "codebook_vectors_x2 = list(df['Unnamed: 2'][27:67])\n",
    "codebook_vectors_x2 = [float(s) for s in codebook_vectors_x2]\n",
    "\n",
    "input_x1 = list(df['Unnamed: 4'][27:67])\n",
    "input_x1 = [float(s) for s in input_x1]\n",
    "\n",
    "input_x2 = list(df['Unnamed: 5'][27:67])\n",
    "input_x2 = [float(s) for s in input_x2]"
   ]
  },
  {
   "cell_type": "code",
   "execution_count": 136,
   "metadata": {},
   "outputs": [],
   "source": [
    "# (X1-X1)**2\n",
    "squared_difference1 = calculate_squared_difference(codebook_vectors_x1,input_x1)\n",
    "                                                   \n",
    "# (x2-X2)^2                                  \n",
    "squared_difference2 = calculate_squared_difference(codebook_vectors_x2,input_x2)"
   ]
  },
  {
   "cell_type": "code",
   "execution_count": 137,
   "metadata": {},
   "outputs": [
    {
     "name": "stdout",
     "output_type": "stream",
     "text": [
      "-----------(X1-X1)**2-----------\n",
      "0.03563065131981063\n",
      "19.35340293809507\n",
      "20.66873099646921\n",
      "0.0\n",
      "0.11565983209995255\n",
      "21.92777292536916\n",
      "23.32645931028011\n",
      "0.08034941739783397\n",
      "3.4905114288271917\n",
      "41.58927403634262\n",
      "43.50737411945567\n",
      "4.201370033966383\n",
      "0.13704372054043562\n",
      "17.728221315930533\n",
      "18.9880395948419\n",
      "1.5526312197576744\n",
      "0.8681346515073286\n",
      "30.386785744284364\n",
      "32.02946913231439\n",
      "11.6978378327053\n",
      "23.654150429581914\n",
      "0.13641686587127813\n",
      "0.26665230636001547\n",
      "2.968261396214491\n",
      "10.14529727132398\n",
      "4.193204230564842\n",
      "3.36098928599281\n",
      "0.0019784130212160246\n",
      "43.722312286445636\n",
      "1.902703367211588\n",
      "8.277857432147782\n",
      "12.051978648352154\n",
      "27.383240431963827\n",
      "0.9323246505130212\n",
      "2.2432294570390674\n",
      "4.377346194829083\n",
      "28.943723705670497\n",
      "1.2378941918100954\n",
      "0.3556449776598925\n",
      "5.014232389240831\n"
     ]
    }
   ],
   "source": [
    "print('-----------(X1-X1)**2-----------')\n",
    "for i in squared_difference1:\n",
    "    print(i)"
   ]
  },
  {
   "cell_type": "code",
   "execution_count": 138,
   "metadata": {},
   "outputs": [
    {
     "name": "stdout",
     "output_type": "stream",
     "text": [
      "-----------(X2-X2)**2-----------\n",
      "2.370479474386822\n",
      "0.0\n",
      "0.2869925776598019\n",
      "5.512661312271021\n",
      "0.007716374729038424\n",
      "0.30220718819279\n",
      "1.1782030593128907\n",
      "8.396314509692438\n",
      "2.4350617740825915\n",
      "1.0755506340710304\n",
      "0.25137256979381745\n",
      "1.71824423809924\n",
      "8.244286756567279\n",
      "5.512661312271021\n",
      "3.284028417191189\n",
      "0.8419396763015985\n",
      "1.1216880567642353\n",
      "0.2869925776598019\n",
      "0.0\n",
      "11.370805186932376\n",
      "4.610733834678041\n",
      "5.594405168867258\n",
      "3.347189578371544\n",
      "2.3793983103754837\n",
      "0.9696909415031034\n",
      "1.4465267917484819\n",
      "0.3765949044047312\n",
      "7.317365363288045\n",
      "0.0014561772811318683\n",
      "0.032337988739696996\n",
      "1.4568266585156544\n",
      "13.89762366131169\n",
      "0.7653240383322799\n",
      "1.4852173202207553\n",
      "0.08643767522011678\n",
      "7.92402105456225\n",
      "3.0892410883779267\n",
      "1.998708247133536\n",
      "7.401950379441079\n",
      "29.67433546621778\n"
     ]
    }
   ],
   "source": [
    "print('-----------(X2-X2)**2-----------')\n",
    "for i in squared_difference2:\n",
    "    print(i)"
   ]
  },
  {
   "cell_type": "code",
   "execution_count": 157,
   "metadata": {},
   "outputs": [
    {
     "name": "stdout",
     "output_type": "stream",
     "text": [
      "-----------SUM-----------\n",
      "2.4061101257066326\n",
      "19.35340293809507\n",
      "20.955723574129014\n",
      "5.512661312271021\n",
      "0.12337620682899098\n",
      "22.229980113561947\n",
      "24.504662369593003\n",
      "8.476663927090271\n",
      "5.925573202909783\n",
      "42.66482467041365\n",
      "43.758746689249485\n",
      "5.9196142720656235\n",
      "8.381330477107715\n",
      "23.240882628201554\n",
      "22.27206801203309\n",
      "2.394570896059273\n",
      "1.9898227082715638\n",
      "30.673778321944166\n",
      "32.02946913231439\n",
      "23.068643019637676\n",
      "28.264884264259955\n",
      "5.730822034738536\n",
      "3.61384188473156\n",
      "5.347659706589974\n",
      "11.114988212827082\n",
      "5.639731022313324\n",
      "3.7375841903975413\n",
      "7.31934377630926\n",
      "43.72376846372677\n",
      "1.9350413559512851\n",
      "9.734684090663436\n",
      "25.949602309663845\n",
      "28.148564470296108\n",
      "2.4175419707337764\n",
      "2.329667132259184\n",
      "12.301367249391333\n",
      "32.032964794048425\n",
      "3.236602438943631\n",
      "7.757595357100971\n",
      "34.688567855458615\n"
     ]
    }
   ],
   "source": [
    "print('-----------SUM-----------')\n",
    "sum_squared_difference = []\n",
    "for i in range(len(squared_difference2)):\n",
    "    _sum = squared_difference1[i]+squared_difference2[i]\n",
    "    print(_sum)\n",
    "    sum_squared_difference.append(_sum)"
   ]
  },
  {
   "cell_type": "code",
   "execution_count": 158,
   "metadata": {},
   "outputs": [
    {
     "name": "stdout",
     "output_type": "stream",
     "text": [
      "-----------Distance-----------\n",
      "1.551164119526568\n",
      "4.39925027\n",
      "4.577742191750101\n",
      "2.347905729\n",
      "0.3512494937063838\n",
      "4.714867984743788\n",
      "4.950218416352253\n",
      "2.9114710932946375\n",
      "2.4342500288404607\n",
      "6.531831647433486\n",
      "6.615039432176462\n",
      "2.433025744225824\n",
      "2.8950527589506403\n",
      "4.820879860378347\n",
      "4.71932919089494\n",
      "1.5474401106534859\n",
      "1.4106107571798692\n",
      "5.538391311738831\n",
      "5.659458378\n",
      "4.8029827211471074\n",
      "5.3164729157835415\n",
      "2.393913539528639\n",
      "1.9010107534497431\n",
      "2.3125007473706845\n",
      "3.3339148478668563\n",
      "2.374811786713491\n",
      "1.9332832669832791\n",
      "2.705428575347954\n",
      "6.612395062587138\n",
      "1.3910576393346485\n",
      "3.1200455270177447\n",
      "5.094075216333564\n",
      "5.305522073302128\n",
      "1.5548446773661273\n",
      "1.5263247138991047\n",
      "3.507330501876225\n",
      "5.65976720316732\n",
      "1.7990559854945123\n",
      "2.7852460137483317\n",
      "5.889700149876784\n"
     ]
    }
   ],
   "source": [
    "print('-----------Distance-----------')\n",
    "distance = []\n",
    "for i in sum_squared_difference:\n",
    "    print(i**0.5)\n",
    "    distance.append(i**0.5)"
   ]
  },
  {
   "cell_type": "code",
   "execution_count": 230,
   "metadata": {},
   "outputs": [],
   "source": [
    "def bmu(distance):\n",
    "    bmu_dict = {}\n",
    "    _min = min(distance)\n",
    "    \n",
    "    for i in distance:\n",
    "        if i == _min:\n",
    "            bmu_dict[i] = \"BMU\"\n",
    "        else:\n",
    "            bmu_dict[i] = \"-\"\n",
    "    return bmu_dict"
   ]
  },
  {
   "cell_type": "code",
   "execution_count": 245,
   "metadata": {},
   "outputs": [],
   "source": [
    "codebook_vectors_y = list(df['Unnamed: 3'][27:67])\n",
    "codebook_vectors_y = [float(s) for s in codebook_vectors_y]\n",
    "\n",
    "input_y = list(df['Unnamed: 6'][27:67])\n",
    "input_y = [float(s) for s in input_y]\n",
    "\n",
    "learnig_rate = float(df['Learning Vector Quantization'][22:23])"
   ]
  },
  {
   "cell_type": "code",
   "execution_count": 249,
   "metadata": {},
   "outputs": [
    {
     "name": "stdout",
     "output_type": "stream",
     "text": [
      "-----------BMU-----------\n",
      "{1.551164119526568: 'BMU', 4.39925027: '-', 4.577742191750101: '-', 2.347905729: '-'}\n",
      "{0.3512494937063838: 'BMU', 4.714867984743788: '-', 4.950218416352253: '-', 2.9114710932946375: '-'}\n",
      "{2.4342500288404607: '-', 6.531831647433486: '-', 6.615039432176462: '-', 2.433025744225824: 'BMU'}\n",
      "{2.8950527589506403: '-', 4.820879860378347: '-', 4.71932919089494: '-', 1.5474401106534859: 'BMU'}\n",
      "{1.4106107571798692: 'BMU', 5.538391311738831: '-', 5.659458378: '-', 4.8029827211471074: '-'}\n",
      "{5.3164729157835415: '-', 2.393913539528639: '-', 1.9010107534497431: 'BMU', 2.3125007473706845: '-'}\n",
      "{3.3339148478668563: '-', 2.374811786713491: '-', 1.9332832669832791: 'BMU', 2.705428575347954: '-'}\n",
      "{6.612395062587138: '-', 1.3910576393346485: 'BMU', 3.1200455270177447: '-', 5.094075216333564: '-'}\n",
      "{5.305522073302128: '-', 1.5548446773661273: '-', 1.5263247138991047: 'BMU', 3.507330501876225: '-'}\n",
      "{5.65976720316732: '-', 1.7990559854945123: 'BMU', 2.7852460137483317: '-', 5.889700149876784: '-'}\n"
     ]
    }
   ],
   "source": [
    "cv_t_x1 = [] # cv is codebook_vectors\n",
    "\n",
    "print('-----------BMU-----------')\n",
    "for i in range(0,len(distance),4):\n",
    "    # judge the BMU\n",
    "    tmp = bmu(distance[i:i+4])\n",
    "    print(tmp)\n",
    "    \n",
    "    # calculate codebook_vectors t+1\n",
    "    for idx, n in enumerate(tmp.values()):\n",
    "        data_index = idx+i\n",
    "        if n == 'BMU':\n",
    "            if codebook_vectors_y[data_index] == input_y[data_index]:\n",
    "                cv = codebook_vectors_x1[data_index]+learnig_rate*(input_x1[data_index]-codebook_vectors_x1[data_index])\n",
    "                cv_t_x1.append(cv)\n",
    "            else:\n",
    "                cv = codebook_vectors_x1[data_index]-learnig_rate*(input_x1[data_index]-codebook_vectors_x1[data_index])\n",
    "                cv_t_x1.append(cv)\n",
    "        else:\n",
    "            cv_t_x1.append(codebook_vectors_x1[data_index])"
   ]
  },
  {
   "cell_type": "code",
   "execution_count": 265,
   "metadata": {},
   "outputs": [
    {
     "name": "stdout",
     "output_type": "stream",
     "text": [
      "-----------codebook_vectors t+1：x1-----------\n",
      "3.4501614603\n",
      "7.792783481\n",
      "7.939820817\n",
      "3.393533211\n",
      "3.2120998761\n",
      "7.792783481\n",
      "7.939820817\n",
      "3.393533211\n",
      "3.212099876\n",
      "7.792783481\n",
      "7.939820817\n",
      "4.828340277\n",
      "3.212099876\n",
      "7.792783481\n",
      "7.939820817\n",
      "5.700572641499999\n",
      "2.5598836701\n",
      "7.792783481\n",
      "7.939820817\n",
      "5.700572642\n",
      "2.55988367\n",
      "7.792783481\n",
      "7.5783521045\n",
      "5.700572642\n",
      "2.55988367\n",
      "7.792783481\n",
      "6.2950420294\n",
      "5.700572642\n",
      "2.55988367\n",
      "6.827213882300001\n",
      "6.295042029\n",
      "5.700572642\n",
      "2.55988367\n",
      "6.827213882\n",
      "7.3434610454\n",
      "5.700572642\n",
      "2.55988367\n",
      "6.048389027499999\n",
      "7.343461045\n",
      "5.700572642\n"
     ]
    }
   ],
   "source": [
    "print('-----------codebook_vectors t+1：x1-----------')\n",
    "for i in cv_t_x1:\n",
    "    print(i)"
   ]
  },
  {
   "cell_type": "code",
   "execution_count": 263,
   "metadata": {},
   "outputs": [],
   "source": [
    "cv_t_x2 = [] # cv is codebook_vectors.\n",
    "\n",
    "for i in range(0,len(distance),4):\n",
    "    # judge the BMU\n",
    "    tmp = bmu(distance[i:i+4])\n",
    "    # calculate codebook_vectors t+1\n",
    "    for idx, n in enumerate(tmp.values()):\n",
    "        data_index = idx+i\n",
    "        if n == 'BMU':\n",
    "            if codebook_vectors_y[data_index] == input_y[data_index]:\n",
    "                cv = codebook_vectors_x2[data_index]+learnig_rate*(input_x2[data_index]-codebook_vectors_x2[data_index])\n",
    "                cv_t_x2.append(cv)\n",
    "            else:\n",
    "                cv = codebook_vectors_x2[data_index]-learnig_rate*(input_x2[data_index]-codebook_vectors_x2[data_index])\n",
    "                cv_t_x2.append(cv)\n",
    "        else:\n",
    "            cv_t_x2.append(codebook_vectors_x2[data_index])"
   ]
  },
  {
   "cell_type": "code",
   "execution_count": 266,
   "metadata": {},
   "outputs": [
    {
     "name": "stdout",
     "output_type": "stream",
     "text": [
      "-----------codebook_vectors t+1：x2-----------\n",
      "1.8693825359999998\n",
      "2.331273381\n",
      "2.866990263\n",
      "4.67917911\n",
      "1.8078925074\n",
      "2.331273381\n",
      "2.866990263\n",
      "4.67917911\n",
      "1.807892507\n",
      "2.331273381\n",
      "2.866990263\n",
      "5.5967518192\n",
      "1.807892507\n",
      "2.331273381\n",
      "2.866990263\n",
      "6.2390527153\n",
      "2.5492609362\n",
      "2.331273381\n",
      "2.866990263\n",
      "6.239052716\n",
      "2.549260936\n",
      "2.331273381\n",
      "4.1476630914\n",
      "6.239052716\n",
      "2.549260936\n",
      "2.331273381\n",
      "3.7180917894\n",
      "6.239052716\n",
      "2.549260936\n",
      "2.2053940161999996\n",
      "3.71809179\n",
      "6.239052716\n",
      "2.549260936\n",
      "2.205394016\n",
      "3.5122897957\n",
      "6.239052716\n",
      "2.549260936\n",
      "3.1950237655\n",
      "3.512289796\n",
      "6.239052716\n"
     ]
    }
   ],
   "source": [
    "print('-----------codebook_vectors t+1：x2-----------')\n",
    "for i in cv_t_x2:\n",
    "    print(i)"
   ]
  },
  {
   "cell_type": "markdown",
   "metadata": {},
   "source": [
    "## 25.3 Make Predictions with LVQ"
   ]
  },
  {
   "cell_type": "code",
   "execution_count": 269,
   "metadata": {},
   "outputs": [],
   "source": [
    "# prediction\n",
    "codebook_vectors_x1 = list(df['Unnamed: 1'][81:121])\n",
    "codebook_vectors_x1 = [float(s) for s in codebook_vectors_x1]\n",
    "\n",
    "codebook_vectors_x2 = list(df['Unnamed: 2'][81:121])\n",
    "codebook_vectors_x2 = [float(s) for s in codebook_vectors_x2]\n",
    "\n",
    "input_x1 = list(df['Unnamed: 4'][81:121])\n",
    "input_x1 = [float(s) for s in input_x1]\n",
    "\n",
    "input_x2 = list(df['Unnamed: 5'][81:121])\n",
    "input_x2 = [float(s) for s in input_x2]"
   ]
  },
  {
   "cell_type": "code",
   "execution_count": 270,
   "metadata": {},
   "outputs": [
    {
     "data": {
      "text/plain": [
       "[2.55988367,\n",
       " 6.048389028,\n",
       " 7.343461045,\n",
       " 5.700572642,\n",
       " 2.55988367,\n",
       " 6.048389028,\n",
       " 7.343461045,\n",
       " 5.700572642,\n",
       " 2.55988367,\n",
       " 6.048389028,\n",
       " 7.343461045,\n",
       " 5.700572642,\n",
       " 2.55988367,\n",
       " 6.048389028,\n",
       " 7.343461045,\n",
       " 5.700572642,\n",
       " 2.55988367,\n",
       " 6.048389028,\n",
       " 7.343461045,\n",
       " 5.700572642,\n",
       " 2.55988367,\n",
       " 6.048389028,\n",
       " 7.343461045,\n",
       " 5.700572642,\n",
       " 2.55988367,\n",
       " 6.048389028,\n",
       " 7.343461045,\n",
       " 5.700572642,\n",
       " 2.55988367,\n",
       " 6.048389028,\n",
       " 7.343461045,\n",
       " 5.700572642,\n",
       " 2.55988367,\n",
       " 6.048389028,\n",
       " 7.343461045,\n",
       " 5.700572642,\n",
       " 2.55988367,\n",
       " 6.048389028,\n",
       " 7.343461045,\n",
       " 5.700572642]"
      ]
     },
     "execution_count": 270,
     "metadata": {},
     "output_type": "execute_result"
    }
   ],
   "source": [
    "codebook_vectors_x1"
   ]
  },
  {
   "cell_type": "code",
   "execution_count": 271,
   "metadata": {},
   "outputs": [],
   "source": [
    "# (X1-X1)**2\n",
    "squared_difference1 = calculate_squared_difference(codebook_vectors_x1,input_x1)\n",
    "                                                   \n",
    "# (x2-X2)^2                                  \n",
    "squared_difference2 = calculate_squared_difference(codebook_vectors_x2,input_x2)"
   ]
  },
  {
   "cell_type": "code",
   "execution_count": 272,
   "metadata": {},
   "outputs": [
    {
     "name": "stdout",
     "output_type": "stream",
     "text": [
      "-----------(X1-X1)**2-----------\n",
      "0.6949715572095103\n",
      "7.048259409058738\n",
      "15.601929893807931\n",
      "5.3224309361888045\n",
      "0.3027088303289748\n",
      "8.633698241988647\n",
      "17.921570250096302\n",
      "6.710685892779708\n",
      "1.478838014048876\n",
      "22.13307483000456\n",
      "35.99582668895509\n",
      "18.981390904839248\n",
      "1.0453229687731782\n",
      "6.08162447997434\n",
      "14.146377224456\n",
      "4.48710422721796\n",
      "0.07813211857975531\n",
      "14.198024375410974\n",
      "25.634967494079138\n",
      "11.6978378327053\n",
      "23.654150429581914\n",
      "1.8907567657957527\n",
      "0.006396144100954709\n",
      "2.968261396214491\n",
      "10.14529727132398\n",
      "0.09201335437589488\n",
      "2.5549114847282652\n",
      "0.0019784130212160246\n",
      "43.722312286445636\n",
      "9.7579989518908\n",
      "3.3441714021772087\n",
      "12.051978648352154\n",
      "27.383240431963827\n",
      "3.042912007657169\n",
      "0.2018906514929742\n",
      "4.377346194829083\n",
      "28.943723705670497\n",
      "3.5775142124397417\n",
      "0.3556449776598925\n",
      "5.014232389240831\n"
     ]
    }
   ],
   "source": [
    "print('-----------(X1-X1)**2-----------')\n",
    "for i in squared_difference1:\n",
    "    print(i)"
   ]
  },
  {
   "cell_type": "code",
   "execution_count": 273,
   "metadata": {},
   "outputs": [
    {
     "name": "stdout",
     "output_type": "stream",
     "text": [
      "-----------(X2-X2)**2-----------\n",
      "0.047518574134878075\n",
      "0.7460647275876481\n",
      "1.3947997724994528\n",
      "15.270739331053042\n",
      "0.589395991402805\n",
      "1.99793738010792\n",
      "2.995496109417026\n",
      "19.869422840541034\n",
      "0.6709248394876001\n",
      "0.030045780743747374\n",
      "0.02071551155946103\n",
      "8.240871192414664\n",
      "4.5365514279354935\n",
      "2.202717085123758\n",
      "1.3616306711273898\n",
      "2.4332056666954434\n",
      "0.10095192523587286\n",
      "0.10760597909045094\n",
      "0.41641148729001837\n",
      "11.370805186932376\n",
      "4.610733834678041\n",
      "2.2544995743277956\n",
      "1.4024079853978206\n",
      "2.3793983103754837\n",
      "0.9696909415031034\n",
      "0.1148979742394854\n",
      "0.0004708903038000379\n",
      "7.317365363288045\n",
      "0.0014561772811318683\n",
      "0.46775028830004334\n",
      "1.00237891512894\n",
      "13.89762366131169\n",
      "0.7653240383322799\n",
      "0.05247085439778068\n",
      "0.007779390822731058\n",
      "7.92402105456225\n",
      "3.0892410883779267\n",
      "5.776266836619304\n",
      "7.401950379441079\n",
      "29.67433546621778\n"
     ]
    }
   ],
   "source": [
    "print('-----------(X2-X2)**2-----------')\n",
    "for i in squared_difference2:\n",
    "    print(i)"
   ]
  },
  {
   "cell_type": "code",
   "execution_count": 274,
   "metadata": {},
   "outputs": [
    {
     "name": "stdout",
     "output_type": "stream",
     "text": [
      "-----------SUM-----------\n",
      "0.7424901313443883\n",
      "7.794324136646386\n",
      "16.996729666307385\n",
      "20.593170267241845\n",
      "0.8921048217317797\n",
      "10.631635622096567\n",
      "20.917066359513328\n",
      "26.580108733320742\n",
      "2.149762853536476\n",
      "22.163120610748308\n",
      "36.01654220051455\n",
      "27.22226209725391\n",
      "5.581874396708672\n",
      "8.284341565098098\n",
      "15.50800789558339\n",
      "6.920309893913403\n",
      "0.17908404381562817\n",
      "14.305630354501425\n",
      "26.051378981369158\n",
      "23.068643019637676\n",
      "28.264884264259955\n",
      "4.145256340123549\n",
      "1.4088041294987754\n",
      "5.347659706589974\n",
      "11.114988212827082\n",
      "0.20691132861538028\n",
      "2.5553823750320652\n",
      "7.31934377630926\n",
      "43.72376846372677\n",
      "10.225749240190844\n",
      "4.346550317306148\n",
      "25.949602309663845\n",
      "28.148564470296108\n",
      "3.0953828620549495\n",
      "0.20967004231570524\n",
      "12.301367249391333\n",
      "32.032964794048425\n",
      "9.353781049059046\n",
      "7.757595357100971\n",
      "34.688567855458615\n"
     ]
    }
   ],
   "source": [
    "print('-----------SUM-----------')\n",
    "sum_squared_difference = []\n",
    "for i in range(len(squared_difference2)):\n",
    "    _sum = squared_difference1[i]+squared_difference2[i]\n",
    "    print(_sum)\n",
    "    sum_squared_difference.append(_sum)"
   ]
  },
  {
   "cell_type": "code",
   "execution_count": 275,
   "metadata": {},
   "outputs": [
    {
     "name": "stdout",
     "output_type": "stream",
     "text": [
      "-----------Distance-----------\n",
      "0.861678670586889\n",
      "2.791831681288538\n",
      "4.122709020329641\n",
      "4.53796983983387\n",
      "0.9445130077091473\n",
      "3.2606189016958984\n",
      "4.573517941313156\n",
      "5.155590047057731\n",
      "1.4662069613586195\n",
      "4.7077723618234035\n",
      "6.0013783583868925\n",
      "5.2174957687816015\n",
      "2.3625990765910054\n",
      "2.8782532142078985\n",
      "3.9380208094401166\n",
      "2.6306481889286153\n",
      "0.4231832272380702\n",
      "3.782278460729911\n",
      "5.104055150698232\n",
      "4.8029827211471074\n",
      "5.3164729157835415\n",
      "2.035990260321387\n",
      "1.1869305495684133\n",
      "2.3125007473706845\n",
      "3.3339148478668563\n",
      "0.4548750692392146\n",
      "1.5985563409001464\n",
      "2.705428575347954\n",
      "6.612395062587138\n",
      "3.19777254353571\n",
      "2.0848381993109557\n",
      "5.094075216333564\n",
      "5.305522073302128\n",
      "1.7593700185165568\n",
      "0.45789741462002737\n",
      "3.507330501876225\n",
      "5.65976720316732\n",
      "3.0583951754243675\n",
      "2.7852460137483317\n",
      "5.889700149876784\n"
     ]
    }
   ],
   "source": [
    "print('-----------Distance-----------')\n",
    "distance = []\n",
    "for i in sum_squared_difference:\n",
    "    print(i**0.5)\n",
    "    distance.append(i**0.5)"
   ]
  },
  {
   "cell_type": "code",
   "execution_count": 289,
   "metadata": {},
   "outputs": [
    {
     "name": "stdout",
     "output_type": "stream",
     "text": [
      "Accuracy = 90.0\n"
     ]
    }
   ],
   "source": [
    "cv_t_x1 = [] # cv is codebook_vectors\n",
    "\n",
    "cnt = 0\n",
    "accuracy = 0\n",
    "\n",
    "for i in range(0,len(distance),4):\n",
    "    # judge the BMU\n",
    "    tmp = bmu(distance[i:i+4])\n",
    "    for idx, v in enumerate(tmp.values()):\n",
    "        if v == 'BMU':\n",
    "            cnt += 1\n",
    "            if codebook_vectors_y[i+idx] == input_y[i+idx]:\n",
    "                accuracy += 1\n",
    "\n",
    "print(\"Accuracy = \"+str((accuracy/cnt)*100))"
   ]
  },
  {
   "cell_type": "code",
   "execution_count": null,
   "metadata": {},
   "outputs": [],
   "source": []
  },
  {
   "cell_type": "code",
   "execution_count": null,
   "metadata": {},
   "outputs": [],
   "source": []
  }
 ],
 "metadata": {
  "kernelspec": {
   "display_name": "Python 3",
   "language": "python",
   "name": "python3"
  },
  "language_info": {
   "codemirror_mode": {
    "name": "ipython",
    "version": 3
   },
   "file_extension": ".py",
   "mimetype": "text/x-python",
   "name": "python",
   "nbconvert_exporter": "python",
   "pygments_lexer": "ipython3",
   "version": "3.6.4"
  }
 },
 "nbformat": 4,
 "nbformat_minor": 2
}
