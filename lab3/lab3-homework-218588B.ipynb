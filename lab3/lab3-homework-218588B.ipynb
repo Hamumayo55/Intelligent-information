{
 "cells": [
  {
   "cell_type": "code",
   "execution_count": 1,
   "metadata": {},
   "outputs": [],
   "source": [
    "import pandas as pd\n",
    "import numpy as np\n",
    "import matplotlib.pyplot as plt"
   ]
  },
  {
   "cell_type": "code",
   "execution_count": 2,
   "metadata": {},
   "outputs": [],
   "source": [
    "#import dataset \n",
    "df = pd.read_csv('.././data/csv/11-GaussianNaiveBayes.csv')"
   ]
  },
  {
   "cell_type": "markdown",
   "metadata": {},
   "source": [
    "## 21.1 Tutorial Dataset"
   ]
  },
  {
   "cell_type": "code",
   "execution_count": 28,
   "metadata": {},
   "outputs": [],
   "source": [
    "x1 = list(df['Gaussian Naïve Bayes'][3:13])\n",
    "x1 = [float(s) for s in x1]\n",
    "\n",
    "x2 = list(df['Unnamed: 1'][3:13])\n",
    "x2 = [float(s) for s in x2]"
   ]
  },
  {
   "cell_type": "code",
   "execution_count": 11,
   "metadata": {},
   "outputs": [
    {
     "data": {
      "text/plain": [
       "Text(0,0.5,'x2')"
      ]
     },
     "execution_count": 11,
     "metadata": {},
     "output_type": "execute_result"
    },
    {
     "data": {
      "image/png": "[encoded data removed]",
      "text/plain": [
       "<Figure size 432x288 with 1 Axes>"
      ]
     },
     "metadata": {},
     "output_type": "display_data"
    }
   ],
   "source": [
    "fig = plt.figure()\n",
    "\n",
    "plt.scatter(x1[:len(x1)//2],x2[:len(x2)//2])\n",
    "plt.scatter(x1[len(x1)//2:],x2[len(x2)//2:])\n",
    "plt.xlabel(\"x1\")\n",
    "plt.ylabel(\"x2\")"
   ]
  },
  {
   "cell_type": "markdown",
   "metadata": {},
   "source": [
    "## 21.3.1 Class Probabilities"
   ]
  },
  {
   "cell_type": "code",
   "execution_count": 15,
   "metadata": {},
   "outputs": [],
   "source": [
    "def count_specified_value(target_value, _list):\n",
    "    cnt = 0\n",
    "    for i in _list:\n",
    "        if i == target_value:\n",
    "            cnt += 1\n",
    "    return cnt"
   ]
  },
  {
   "cell_type": "code",
   "execution_count": 22,
   "metadata": {},
   "outputs": [
    {
     "name": "stdout",
     "output_type": "stream",
     "text": [
      "P0：0.5\n",
      "---------\n",
      "P1：0.5\n"
     ]
    }
   ],
   "source": [
    "y = df['Unnamed: 2'][3:13]\n",
    "y = [float(s) for s in y]\n",
    "\n",
    "y0 = count_specified_value(0,y)\n",
    "y1 = count_specified_value(1,y)\n",
    "\n",
    "p0 = y0/(y0+y1)\n",
    "print('P0：'+str(p0))\n",
    "print('---------')\n",
    "p1 = y1/(y0+y1)\n",
    "print('P1：'+str(p1))"
   ]
  },
  {
   "cell_type": "markdown",
   "metadata": {},
   "source": [
    "## 21.3.2 Conditional Probabilities"
   ]
  },
  {
   "cell_type": "code",
   "execution_count": 41,
   "metadata": {},
   "outputs": [
    {
     "name": "stdout",
     "output_type": "stream",
     "text": [
      "x1_y0_mean：2.7420144012\n",
      "x1_y1_mean：7.6146523718\n",
      "x2_y0_mean：3.0054686692\n",
      "x2_y1_mean：2.9914679790000003\n"
     ]
    }
   ],
   "source": [
    "import statistics\n",
    "x1_y0_mean = statistics.mean(x1[:len(x1)//2])\n",
    "print(\"x1_y0_mean：\"+str(x1_y0_mean))\n",
    "x1_y1_mean = statistics.mean(x1[len(x1)//2:])\n",
    "print(\"x1_y1_mean：\"+str(x1_y1_mean))\n",
    "\n",
    "x2_y0_mean = statistics.mean(x2[:len(x2)//2])\n",
    "print(\"x2_y0_mean：\"+str(x2_y0_mean))\n",
    "x2_y1_mean = statistics.mean(x2[len(x2)//2:])\n",
    "print(\"x2_y1_mean：\"+str(x2_y1_mean))"
   ]
  },
  {
   "cell_type": "code",
   "execution_count": 43,
   "metadata": {},
   "outputs": [
    {
     "name": "stdout",
     "output_type": "stream",
     "text": [
      "x1_y0_stdev：0.9265683289298018\n",
      "x1_y1_stdev：1.2344321550313704\n",
      "x2_y0_stdev：1.1073295894898725\n",
      "x2_y1_stdev：1.4541931384601618\n"
     ]
    }
   ],
   "source": [
    "x1_y0_stdev = statistics.stdev(x1[:len(x1)//2])\n",
    "print(\"x1_y0_stdev：\"+str(x1_y0_stdev))\n",
    "x1_y1_stdev = statistics.stdev(x1[len(x1)//2:])\n",
    "print(\"x1_y1_stdev：\"+str(x1_y1_stdev))\n",
    "\n",
    "x2_y0_stdev = statistics.stdev(x2[:len(x2)//2])\n",
    "print(\"x2_y0_stdev：\"+str(x2_y0_stdev))\n",
    "x2_y1_stdev = statistics.stdev(x2[len(x2)//2:])\n",
    "print(\"x2_y1_stdev：\"+str(x2_y1_stdev))"
   ]
  },
  {
   "cell_type": "markdown",
   "metadata": {},
   "source": [
    "## 21.4 Make Prediction with Gaussian Naive Bayes"
   ]
  },
  {
   "cell_type": "code",
   "execution_count": 51,
   "metadata": {},
   "outputs": [],
   "source": [
    "import math\n",
    "def pdf(value,mean,std):\n",
    "    return 1/(std*(2*math.pi)**0.5)*math.e**-((value-mean)**2/(2*std**2))"
   ]
  },
  {
   "cell_type": "code",
   "execution_count": 60,
   "metadata": {},
   "outputs": [
    {
     "name": "stdout",
     "output_type": "stream",
     "text": [
      "--------P(pdf(x1)|Y=0)--------\n",
      "0.3362559189806222\n",
      "0.39789537964422417\n",
      "0.1378989256527223\n",
      "0.28539525215390316\n",
      "0.38030115759804806\n",
      "1.2328271766438062e-06\n",
      "0.002254526671779386\n",
      "1.5003336416741338e-11\n",
      "1.5196175162923096e-07\n",
      "6.318136633411705e-08\n",
      "--------P(pdf(x2)|Y=0)--------\n",
      "0.29932128413549713\n",
      "0.19559060386412516\n",
      "0.3414378694988815\n",
      "0.11495884192721373\n",
      "0.35746801170840853\n",
      "0.11225550899085125\n",
      "0.32148821825264823\n",
      "0.32610077857613606\n",
      "0.3354277026970906\n",
      "0.04883074555526275\n",
      "--------Output Y=0--------\n",
      "0.05032427673372076\n",
      "0.03891229878967957\n",
      "0.02354195769052508\n",
      "0.016404353839568928\n",
      "0.06797274932849018\n",
      "6.919582110595227e-08\n",
      "0.00036240188135671394\n",
      "2.4462998433695227e-12\n",
      "2.5486090623409403e-08\n",
      "1.5425966116475567e-09\n"
     ]
    }
   ],
   "source": [
    "x1 = list(df['Gaussian Naïve Bayes'][25:35])\n",
    "x1 = [float(s) for s in x1]\n",
    "\n",
    "print(\"--------P(pdf(x1)|Y=0)--------\")\n",
    "pdf_x1_y0 = []\n",
    "for i in x1:\n",
    "    ans = pdf(i,x1_y0_mean,x1_y0_stdev)\n",
    "    pdf_x1_y0.append(ans)\n",
    "    print(ans)\n",
    "    \n",
    "x2 = list(df['Unnamed: 1'][25:35])\n",
    "x2 = [float(s) for s in x2]\n",
    "\n",
    "print(\"--------P(pdf(x2)|Y=0)--------\")\n",
    "pdf_x2_y0 = []\n",
    "for i in x2:\n",
    "    ans = pdf(i,x2_y0_mean,x2_y0_stdev)\n",
    "    pdf_x2_y0.append(ans)\n",
    "    print(ans)\n",
    "    \n",
    "print(\"--------Output Y=0--------\")\n",
    "output_y0 = []\n",
    "for i in range(len(pdf_x2_y0)):\n",
    "    ans = pdf_x1_y0[i]*pdf_x2_y0[i]*p0\n",
    "    output_y0.append(ans)\n",
    "    print(ans)"
   ]
  },
  {
   "cell_type": "code",
   "execution_count": 62,
   "metadata": {},
   "outputs": [
    {
     "name": "stdout",
     "output_type": "stream",
     "text": [
      "--------P(pdf(x1)|Y=1)--------\n",
      "0.0009340506299685852\n",
      "0.00041486723880612524\n",
      "8.049754130439041e-07\n",
      "0.0015573221630848745\n",
      "2.848450435660791e-05\n",
      "0.3193246934374877\n",
      "0.10264594879667971\n",
      "0.14579890306715512\n",
      "0.3198314479712074\n",
      "0.31215873901519764\n",
      "--------P(pdf(x2)|Y=1)--------\n",
      "0.2474752012176147\n",
      "0.19407231695876162\n",
      "0.2652782467174633\n",
      "0.13989465220040678\n",
      "0.2733360347029761\n",
      "0.1379617648530351\n",
      "0.2558965839320992\n",
      "0.2597723928760463\n",
      "0.2624636835757837\n",
      "0.08737062963391638\n",
      "--------Output Y=0--------\n",
      "0.0001155771837994577\n",
      "4.025712313269429e-05\n",
      "1.0677123311147636e-07\n",
      "0.00010893052118437184\n",
      "3.892920735657427e-06\n",
      "0.0220272991338951\n",
      "0.013133373825769753\n",
      "0.018937264964228807\n",
      "0.04197206997894985\n",
      "0.0136367527867436\n"
     ]
    }
   ],
   "source": [
    "print(\"--------P(pdf(x1)|Y=1)--------\")\n",
    "pdf_x1_y1 = []\n",
    "for i in x1:\n",
    "    ans = pdf(i,x1_y1_mean,x1_y1_stdev)\n",
    "    pdf_x1_y1.append(ans)\n",
    "    print(ans)\n",
    "    \n",
    "print(\"--------P(pdf(x2)|Y=1)--------\")\n",
    "pdf_x2_y1 = []\n",
    "for i in x2:\n",
    "    ans = pdf(i,x2_y1_mean,x2_y1_stdev)\n",
    "    pdf_x2_y1.append(ans)\n",
    "    print(ans)\n",
    "    \n",
    "print(\"--------Output Y=0--------\")\n",
    "output_y1 = []\n",
    "for i in range(len(pdf_x2_y1)):\n",
    "    ans = pdf_x1_y1[i]*pdf_x2_y1[i]*p1\n",
    "    output_y1.append(ans)\n",
    "    print(ans)"
   ]
  },
  {
   "cell_type": "markdown",
   "metadata": {},
   "source": [
    "## Final Prediction"
   ]
  },
  {
   "cell_type": "code",
   "execution_count": 66,
   "metadata": {},
   "outputs": [
    {
     "name": "stdout",
     "output_type": "stream",
     "text": [
      "0\n",
      "0\n",
      "0\n",
      "0\n",
      "0\n",
      "1\n",
      "1\n",
      "1\n",
      "1\n",
      "1\n",
      "-----------------------\n",
      "Accuracy：100.0\n"
     ]
    }
   ],
   "source": [
    "prediction = []\n",
    "acc_cnt = 0\n",
    "\n",
    "for i in range(len(output_y0)):\n",
    "    if output_y0[i] > output_y1[i]:\n",
    "        print(0)\n",
    "        prediction.append(0)\n",
    "        if y[i] == 0:\n",
    "            acc_cnt += 1\n",
    "    else:\n",
    "        print(1)\n",
    "        prediction.append(1)\n",
    "        if y[i] == 1:\n",
    "            acc_cnt += 1\n",
    "print('-----------------------')\n",
    "print('Accuracy：'+str(acc_cnt/len(prediction)*100))"
   ]
  },
  {
   "cell_type": "markdown",
   "metadata": {},
   "source": [
    "## Chapter 23"
   ]
  },
  {
   "cell_type": "code",
   "execution_count": null,
   "metadata": {},
   "outputs": [],
   "source": []
  }
 ],
 "metadata": {
  "kernelspec": {
   "display_name": "Python 3",
   "language": "python",
   "name": "python3"
  },
  "language_info": {
   "codemirror_mode": {
    "name": "ipython",
    "version": 3
   },
   "file_extension": ".py",
   "mimetype": "text/x-python",
   "name": "python",
   "nbconvert_exporter": "python",
   "pygments_lexer": "ipython3",
   "version": "3.6.4"
  }
 },
 "nbformat": 4,
 "nbformat_minor": 2
}
